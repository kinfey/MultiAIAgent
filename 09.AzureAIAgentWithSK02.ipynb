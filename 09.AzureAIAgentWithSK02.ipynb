{
 "cells": [
  {
   "cell_type": "code",
   "execution_count": 1,
   "metadata": {
    "dotnet_interactive": {
     "language": "csharp"
    },
    "polyglot_notebook": {
     "kernelName": "csharp"
    },
    "vscode": {
     "languageId": "polyglot-notebook"
    }
   },
   "outputs": [
    {
     "data": {
      "text/html": [
       "<div><div></div><div></div><div><strong>Installed Packages</strong><ul><li><span>Microsoft.SemanticKernel.Agents.Abstractions, 1.32.0-alpha</span></li><li><span>Microsoft.SemanticKernel.Agents.Core, 1.32.0-alpha</span></li><li><span>Microsoft.SemanticKernel.Agents.OpenAI, 1.32.0-alpha</span></li><li><span>Microsoft.SemanticKernel.Connectors.AzureOpenAI, 1.32.0</span></li></ul></div></div>"
      ]
     },
     "metadata": {},
     "output_type": "display_data"
    }
   ],
   "source": [
    "#r \"nuget: Microsoft.SemanticKernel.Agents.Abstractions, *-*\"\n",
    "#r \"nuget: Microsoft.SemanticKernel.Agents.Core, *-*\"\n",
    "#r \"nuget: Microsoft.SemanticKernel.Agents.OpenAI, *-*\"\n",
    "#r \"nuget: Microsoft.SemanticKernel.Connectors.AzureOpenAI, *-*\""
   ]
  },
  {
   "cell_type": "code",
   "execution_count": 2,
   "metadata": {
    "dotnet_interactive": {
     "language": "csharp"
    },
    "polyglot_notebook": {
     "kernelName": "csharp"
    },
    "vscode": {
     "languageId": "polyglot-notebook"
    }
   },
   "outputs": [],
   "source": [
    "using System.ComponentModel;\n",
    "using Microsoft.SemanticKernel;\n",
    "using Microsoft.SemanticKernel.Agents;\n",
    "using Microsoft.SemanticKernel.Agents.Chat;\n",
    "using Microsoft.SemanticKernel.ChatCompletion;\n",
    "using Microsoft.SemanticKernel.Connectors.AzureOpenAI;"
   ]
  },
  {
   "cell_type": "code",
   "execution_count": 3,
   "metadata": {
    "dotnet_interactive": {
     "language": "csharp"
    },
    "polyglot_notebook": {
     "kernelName": "csharp"
    },
    "vscode": {
     "languageId": "polyglot-notebook"
    }
   },
   "outputs": [],
   "source": [
    "var deployment = \"gpt-4o-mini\";\n",
    "var endpoint = \"Your AOAI endpoint\";\n",
    "var key = \"Your AOAI key\";"
   ]
  },
  {
   "cell_type": "code",
   "execution_count": 4,
   "metadata": {
    "dotnet_interactive": {
     "language": "csharp"
    },
    "polyglot_notebook": {
     "kernelName": "csharp"
    },
    "vscode": {
     "languageId": "polyglot-notebook"
    }
   },
   "outputs": [],
   "source": [
    "#pragma warning disable SKEXP0010\n",
    "\n",
    "var kernel = Kernel.CreateBuilder()\n",
    "    .AddAzureOpenAIChatCompletion(deployment, endpoint, key)\n",
    "    .Build();"
   ]
  },
  {
   "cell_type": "code",
   "execution_count": 5,
   "metadata": {
    "dotnet_interactive": {
     "language": "csharp"
    },
    "polyglot_notebook": {
     "kernelName": "csharp"
    },
    "vscode": {
     "languageId": "polyglot-notebook"
    }
   },
   "outputs": [
    {
     "data": {
      "text/html": [
       "<div><div></div><div></div><div><strong>Installed Packages</strong><ul><li><span>Azure.AI.Projects, 1.0.0-beta.2</span></li><li><span>Azure.Identity, 1.13.1</span></li></ul></div></div>"
      ]
     },
     "metadata": {},
     "output_type": "display_data"
    }
   ],
   "source": [
    "#r \"nuget: Azure.AI.Projects, 1.0.0-beta.2\"\n",
    "\n",
    "#r \"nuget: Azure.Identity, 1.13.1\""
   ]
  },
  {
   "cell_type": "code",
   "execution_count": 6,
   "metadata": {
    "dotnet_interactive": {
     "language": "csharp"
    },
    "polyglot_notebook": {
     "kernelName": "csharp"
    },
    "vscode": {
     "languageId": "polyglot-notebook"
    }
   },
   "outputs": [],
   "source": [
    "using System;\n",
    "using System.Collections.Generic;\n",
    "using System.Threading.Tasks;\n",
    "\n",
    "using Azure.Identity;\n",
    "using Azure.AI.Projects;\n",
    "using Azure.Core;\n",
    "using Azure.Core.Pipeline;"
   ]
  },
  {
   "cell_type": "code",
   "execution_count": 7,
   "metadata": {
    "dotnet_interactive": {
     "language": "csharp"
    },
    "polyglot_notebook": {
     "kernelName": "csharp"
    },
    "vscode": {
     "languageId": "polyglot-notebook"
    }
   },
   "outputs": [],
   "source": [
    "internal class CustomHeadersPolicy : HttpPipelineSynchronousPolicy\n",
    "{\n",
    "    public override void OnSendingRequest(HttpMessage message)\n",
    "    {\n",
    "        message.Request.Headers.Add(\"x-ms-enable-preview\", \"true\");\n",
    "    }\n",
    "}"
   ]
  },
  {
   "cell_type": "code",
   "execution_count": 8,
   "metadata": {
    "dotnet_interactive": {
     "language": "csharp"
    },
    "polyglot_notebook": {
     "kernelName": "csharp"
    },
    "vscode": {
     "languageId": "polyglot-notebook"
    }
   },
   "outputs": [],
   "source": [
    "public sealed class SearchPlugin\n",
    "{\n",
    "        [KernelFunction, Description(\"Search by Bing\")]\n",
    "        [System.Diagnostics.CodeAnalysis.SuppressMessage(\"Design\", \"CA1024:Use properties where appropriate\", Justification = \"Too smart\")]\n",
    "        public async Task<string> Search([Description(\"search Item\")]\n",
    "            string searchItem)\n",
    "        {\n",
    "            var connectionString = \"Your Azure AI Agent Service Connection String\";\n",
    "            var clientOptions = new AIProjectClientOptions();\n",
    "\n",
    "            // Adding the custom headers policy\n",
    "            clientOptions.AddPolicy(new CustomHeadersPolicy(), HttpPipelinePosition.PerCall);\n",
    "            var projectClient = new AIProjectClient(connectionString, new DefaultAzureCredential(), clientOptions);\n",
    "\n",
    "            ConnectionResponse bingConnection = await projectClient.GetConnectionsClient().GetConnectionAsync(\"kinfey-bing-search\");\n",
    "            var connectionId = bingConnection.Id;\n",
    "\n",
    "            AgentsClient agentClient = projectClient.GetAgentsClient();\n",
    "\n",
    "            ToolConnectionList connectionList = new ToolConnectionList\n",
    "            {\n",
    "                ConnectionList = { new ToolConnection(connectionId) }\n",
    "            };\n",
    "            BingGroundingToolDefinition bingGroundingTool = new BingGroundingToolDefinition(connectionList);\n",
    "\n",
    "            Azure.Response<Azure.AI.Projects.Agent> agentResponse = await agentClient.CreateAgentAsync(\n",
    "            model: \"gpt-4-1106-preview\",\n",
    "            name: \"my-assistant\",\n",
    "            instructions: \"You are a helpful assistant.\",\n",
    "            tools: new List<ToolDefinition> { bingGroundingTool });\n",
    "            Azure.AI.Projects.Agent agent = agentResponse.Value;\n",
    "\n",
    "            // Create thread for communication\n",
    "            Azure.Response<AgentThread> threadResponse = await agentClient.CreateThreadAsync();\n",
    "            AgentThread thread = threadResponse.Value;\n",
    "\n",
    "            // Create message to thread\n",
    "            Azure.Response<ThreadMessage> messageResponse = await agentClient.CreateMessageAsync(\n",
    "                thread.Id,\n",
    "                MessageRole.User,\n",
    "                \"How does wikipedia explain Euler's Identity?\");\n",
    "            ThreadMessage message = messageResponse.Value;\n",
    "\n",
    "            // Run the agent\n",
    "            Azure.Response<ThreadRun> runResponse = await agentClient.CreateRunAsync(thread, agent);\n",
    "\n",
    "            do\n",
    "            {\n",
    "                await Task.Delay(TimeSpan.FromMilliseconds(500));\n",
    "                runResponse = await agentClient.GetRunAsync(thread.Id, runResponse.Value.Id);\n",
    "            }\n",
    "            while (runResponse.Value.Status == RunStatus.Queued\n",
    "                || runResponse.Value.Status == RunStatus.InProgress);\n",
    "\n",
    "            Azure.Response<PageableList<ThreadMessage>> afterRunMessagesResponse\n",
    "                = await agentClient.GetMessagesAsync(thread.Id);\n",
    "            IReadOnlyList<ThreadMessage> messages = afterRunMessagesResponse.Value.Data;\n",
    "\n",
    "            string searchResult = \"\";\n",
    "\n",
    "            // Note: messages iterate from newest to oldest, with the messages[0] being the most recent\n",
    "            foreach (ThreadMessage threadMessage in messages)\n",
    "            {\n",
    "                Console.Write($\"{threadMessage.CreatedAt:yyyy-MM-dd HH:mm:ss} - {threadMessage.Role,10}: \");\n",
    "\n",
    "                if(threadMessage.Role.ToString().ToLower()==\"assistant\")\n",
    "                {\n",
    "                    foreach (MessageContent contentItem in threadMessage.ContentItems)\n",
    "                    {\n",
    "                        if (contentItem is MessageTextContent textItem)\n",
    "                        {\n",
    "                            Console.Write(textItem.Text);\n",
    "                            searchResult = textItem.Text;\n",
    "                        }\n",
    "                        break;\n",
    "                        // Console.WriteLine();\n",
    "                    }\n",
    "                }\n",
    "            }\n",
    "\n",
    "            return searchResult;\n",
    "        }\n",
    "}"
   ]
  },
  {
   "cell_type": "code",
   "execution_count": 9,
   "metadata": {
    "dotnet_interactive": {
     "language": "csharp"
    },
    "polyglot_notebook": {
     "kernelName": "csharp"
    },
    "vscode": {
     "languageId": "polyglot-notebook"
    }
   },
   "outputs": [],
   "source": [
    "public sealed class SavePlugin\n",
    "{\n",
    "        [KernelFunction, Description(\"Save blog\")]\n",
    "        [System.Diagnostics.CodeAnalysis.SuppressMessage(\"Design\", \"CA1024:Use properties where appropriate\", Justification = \"Too smart\")]\n",
    "        public async Task<string> Save([Description(\"save blog content\")]\n",
    "            string content)\n",
    "        {\n",
    "            Console.Write(\"###\"+content);\n",
    "            var connectionString = \"eastus.api.azureml.ms;6415ebd4-1dd7-430f-bd4d-2f5e9419c1cd;rg-kinfey-ai;kinfey-agent-project-23ra\";\n",
    "            AgentsClient client = new AgentsClient(connectionString, new DefaultAzureCredential());\n",
    "            Azure.Response<Azure.AI.Projects.Agent> agentResponse = await client.CreateAgentAsync(\n",
    "                model: \"gpt-4o-mini\",\n",
    "                name: \"code-agent\",\n",
    "                instructions: \"You are a personal python assistant. Write and run code to answer questions.\",\n",
    "                tools: new List<ToolDefinition> { new CodeInterpreterToolDefinition() });\n",
    "            Azure.AI.Projects.Agent agent = agentResponse.Value;\n",
    "            Azure.Response<PageableList<Azure.AI.Projects.Agent>> agentListResponse = await client.GetAgentsAsync();\n",
    "            Azure.Response<AgentThread> threadResponse = await client.CreateThreadAsync();\n",
    "            AgentThread thread = threadResponse.Value;\n",
    "             Azure.Response<ThreadMessage> messageResponse = await client.CreateMessageAsync(\n",
    "            thread.Id,\n",
    "            MessageRole.User,\n",
    "            @\"You are my Python programming assistant. Generate code and execute it according to the following requirements\n",
    "                1. Save\" + content +     @\"file as blog-{YYMMDDHHMMSS}.md\n",
    "                2. give me the download this file link\n",
    "            \");\n",
    "            ThreadMessage message = messageResponse.Value;\n",
    "            Azure.Response<PageableList<ThreadMessage>> messagesListResponse = await client.GetMessagesAsync(thread.Id);\n",
    "            Azure.Response<ThreadRun> runResponse = await client.CreateRunAsync(\n",
    "            thread.Id,\n",
    "            agent.Id);\n",
    "            ThreadRun run = runResponse.Value;\n",
    "            do\n",
    "            {\n",
    "                        await Task.Delay(TimeSpan.FromMilliseconds(500));\n",
    "                        runResponse = await client.GetRunAsync(thread.Id, runResponse.Value.Id);\n",
    "            }\n",
    "            while (runResponse.Value.Status == RunStatus.Queued\n",
    "                        || runResponse.Value.Status == RunStatus.InProgress);\n",
    "            Azure.Response<PageableList<ThreadMessage>> afterRunMessagesResponse = await client.GetMessagesAsync(thread.Id);\n",
    "            IReadOnlyList<ThreadMessage> messages = afterRunMessagesResponse.Value.Data;\n",
    "\n",
    "            foreach (ThreadMessage threadMessage in messages)\n",
    "            {\n",
    "                        // Console.Write($\"{threadMessage.CreatedAt:yyyy-MM-dd HH:mm:ss} - {threadMessage.Role,10}: \");\n",
    "                        foreach (MessageContent contentItem in threadMessage.ContentItems)\n",
    "                        {\n",
    "                            \n",
    "                            if (contentItem is MessageTextContent textItem)\n",
    "                            {\n",
    "                                // Console.Write(textItem.Text);\n",
    "\n",
    "                                if(textItem.Annotations is not null && textItem.Annotations.Count > 0)\n",
    "                                {\n",
    "\n",
    "                                    if(textItem.Annotations[0] is MessageTextFilePathAnnotation pathItem )\n",
    "                                    {\n",
    "                                        // Console.Write($\"[Download file]({pathItem.Text})\");\n",
    "\n",
    "                                        Azure.Response<AgentFile> agentfile = await client.GetFileAsync(pathItem.FileId);\n",
    "\n",
    "                                        Azure.Response<BinaryData> fileBytes = await client.GetFileContentAsync(pathItem.FileId);\n",
    "\n",
    "                                        Console.Write(agentfile.Value.Filename);\n",
    "\n",
    "                                        var mdfile =System.IO.Path.GetFileName(agentfile.Value.Filename);\n",
    "\n",
    "                                        using System.IO.FileStream stream = System.IO.File.OpenWrite($\"./blog/{mdfile}\");\n",
    "                                        fileBytes.Value.ToStream().CopyTo(stream);\n",
    "\n",
    "                                    }\n",
    "\n",
    "                                }\n",
    "\n",
    "                            }\n",
    "                            // Console.WriteLine();\n",
    "                        }\n",
    "\n",
    "\n",
    "            }\n",
    "        \n",
    "            return \"Saved\";\n",
    "        }\n",
    "}"
   ]
  },
  {
   "cell_type": "code",
   "execution_count": 10,
   "metadata": {
    "dotnet_interactive": {
     "language": "csharp"
    },
    "polyglot_notebook": {
     "kernelName": "csharp"
    },
    "vscode": {
     "languageId": "polyglot-notebook"
    }
   },
   "outputs": [],
   "source": [
    "const string SearchHostName = \"Search\";\n",
    "const string SearchHostInstructions = \"You are a search expert, help me use tools to find relevant knowledge\";"
   ]
  },
  {
   "cell_type": "code",
   "execution_count": 11,
   "metadata": {
    "dotnet_interactive": {
     "language": "csharp"
    },
    "polyglot_notebook": {
     "kernelName": "csharp"
    },
    "vscode": {
     "languageId": "polyglot-notebook"
    }
   },
   "outputs": [],
   "source": [
    "#pragma warning disable SKEXP0110\n",
    "\n",
    "ChatCompletionAgent search_agent =\n",
    "            new()\n",
    "            {\n",
    "                Name = SearchHostName,\n",
    "                Instructions = SearchHostInstructions,\n",
    "                Kernel = kernel,\n",
    "                Arguments = new KernelArguments(new AzureOpenAIPromptExecutionSettings() { FunctionChoiceBehavior = FunctionChoiceBehavior.Auto() }),\n",
    "            };"
   ]
  },
  {
   "cell_type": "code",
   "execution_count": 12,
   "metadata": {
    "dotnet_interactive": {
     "language": "csharp"
    },
    "polyglot_notebook": {
     "kernelName": "csharp"
    },
    "vscode": {
     "languageId": "polyglot-notebook"
    }
   },
   "outputs": [],
   "source": [
    "const string SaveHostName = \"SaveBlog\";\n",
    "const string SavehHostInstructions = \"Save blog content. Respond with 'Saved' to when your blog are saved.\";"
   ]
  },
  {
   "cell_type": "code",
   "execution_count": 13,
   "metadata": {
    "dotnet_interactive": {
     "language": "csharp"
    },
    "polyglot_notebook": {
     "kernelName": "csharp"
    },
    "vscode": {
     "languageId": "polyglot-notebook"
    }
   },
   "outputs": [],
   "source": [
    "#pragma warning disable SKEXP0110\n",
    "\n",
    "ChatCompletionAgent save_blog_agent =\n",
    "            new()\n",
    "            {\n",
    "                Name = SaveHostName,\n",
    "                Instructions = SavehHostInstructions,\n",
    "                Kernel = kernel,\n",
    "                Arguments = new KernelArguments(new AzureOpenAIPromptExecutionSettings() { FunctionChoiceBehavior = FunctionChoiceBehavior.Auto() }),\n",
    "            };"
   ]
  },
  {
   "cell_type": "code",
   "execution_count": 14,
   "metadata": {
    "dotnet_interactive": {
     "language": "csharp"
    },
    "polyglot_notebook": {
     "kernelName": "csharp"
    },
    "vscode": {
     "languageId": "polyglot-notebook"
    }
   },
   "outputs": [],
   "source": [
    "private const string WriteBlogName = \"WriteBlog\";\n",
    "private const string WriteBlogInstructions =\n",
    "        \"\"\"\n",
    "        You are a blog writer, please help me write a blog based on bing search content.\n",
    "        \"\"\";"
   ]
  },
  {
   "cell_type": "code",
   "execution_count": 15,
   "metadata": {
    "dotnet_interactive": {
     "language": "csharp"
    },
    "polyglot_notebook": {
     "kernelName": "csharp"
    },
    "vscode": {
     "languageId": "polyglot-notebook"
    }
   },
   "outputs": [],
   "source": [
    "#pragma warning disable SKEXP0110\n",
    "\n",
    "ChatCompletionAgent write_blog_agent =\n",
    "            new()\n",
    "            {\n",
    "                Name = WriteBlogName,\n",
    "                Instructions = WriteBlogInstructions,\n",
    "                Kernel = kernel\n",
    "            };"
   ]
  },
  {
   "cell_type": "code",
   "execution_count": 16,
   "metadata": {
    "dotnet_interactive": {
     "language": "csharp"
    },
    "polyglot_notebook": {
     "kernelName": "csharp"
    },
    "vscode": {
     "languageId": "polyglot-notebook"
    }
   },
   "outputs": [],
   "source": [
    "#pragma warning disable SKEXP0110\n",
    "\n",
    "KernelPlugin search_plugin = KernelPluginFactory.CreateFromType<SearchPlugin>();\n",
    "search_agent.Kernel.Plugins.Add(search_plugin);"
   ]
  },
  {
   "cell_type": "code",
   "execution_count": 17,
   "metadata": {
    "dotnet_interactive": {
     "language": "csharp"
    },
    "polyglot_notebook": {
     "kernelName": "csharp"
    },
    "vscode": {
     "languageId": "polyglot-notebook"
    }
   },
   "outputs": [],
   "source": [
    "#pragma warning disable SKEXP0110\n",
    "\n",
    "KernelPlugin save_blog_plugin = KernelPluginFactory.CreateFromType<SavePlugin>();\n",
    "save_blog_agent.Kernel.Plugins.Add(save_blog_plugin);"
   ]
  },
  {
   "cell_type": "code",
   "execution_count": 18,
   "metadata": {
    "dotnet_interactive": {
     "language": "csharp"
    },
    "polyglot_notebook": {
     "kernelName": "csharp"
    },
    "vscode": {
     "languageId": "polyglot-notebook"
    }
   },
   "outputs": [],
   "source": [
    " #pragma warning disable SKEXP0110   \n",
    " using System.Threading;\n",
    "    \n",
    "\n",
    "\n",
    "private sealed class ApprovalTerminationStrategy : TerminationStrategy\n",
    "{\n",
    "        // Terminate when the final message contains the term \"approve\"\n",
    "        protected override Task<bool> ShouldAgentTerminateAsync(Microsoft.SemanticKernel.Agents.Agent agent, IReadOnlyList<ChatMessageContent> history, CancellationToken cancellationToken)\n",
    "            => Task.FromResult(history[history.Count - 1].Content?.Contains(\"Saved\", StringComparison.OrdinalIgnoreCase) ?? false);\n",
    "}"
   ]
  },
  {
   "cell_type": "code",
   "execution_count": 19,
   "metadata": {
    "dotnet_interactive": {
     "language": "csharp"
    },
    "polyglot_notebook": {
     "kernelName": "csharp"
    },
    "vscode": {
     "languageId": "polyglot-notebook"
    }
   },
   "outputs": [],
   "source": [
    " #pragma warning disable SKEXP0110\n",
    "\n",
    "AgentGroupChat chat =\n",
    "            new(search_agent, write_blog_agent,save_blog_agent)\n",
    "            {\n",
    "                ExecutionSettings =\n",
    "                    new()\n",
    "                    {\n",
    "                        TerminationStrategy =\n",
    "                            new ApprovalTerminationStrategy()\n",
    "                            {\n",
    "                                // Only the art-director may approve.\n",
    "                                Agents = [save_blog_agent],\n",
    "                                // Limit total number of turns\n",
    "                                MaximumIterations = 10,\n",
    "                            }\n",
    "                    }\n",
    "            };"
   ]
  },
  {
   "cell_type": "code",
   "execution_count": 20,
   "metadata": {
    "dotnet_interactive": {
     "language": "csharp"
    },
    "polyglot_notebook": {
     "kernelName": "csharp"
    },
    "vscode": {
     "languageId": "polyglot-notebook"
    }
   },
   "outputs": [],
   "source": [
    " #pragma warning disable SKEXP0110\n",
    "\n",
    "ChatMessageContent input = new(AuthorRole.User, \"\"\"\n",
    "                    I am writing a blog about GraphRAG. Search for the following 2 questions and write a Chinese blog based on the search results ,save it           \n",
    "                        1. What is Microsoft GraphRAG?\n",
    "                        2. Vector-based RAG vs GraphRAG\n",
    "                    \"\"\");\n",
    "chat.AddChatMessage(input);"
   ]
  },
  {
   "cell_type": "code",
   "execution_count": 21,
   "metadata": {
    "dotnet_interactive": {
     "language": "csharp"
    },
    "polyglot_notebook": {
     "kernelName": "csharp"
    },
    "vscode": {
     "languageId": "polyglot-notebook"
    }
   },
   "outputs": [
    {
     "name": "stdout",
     "output_type": "stream",
     "text": [
      "# Assistant - Search: 'Currently, I am unable to retrieve the necessary information to answer your questions about Microsoft GraphRAG and its comparison with vector-based RAG systems due to technical difficulties. However, I can help you draft a potential structure for your blog based on general knowledge, and once I can perform searches, I can provide updates. Here's a preliminary outline:\n",
      "\n",
      "---\n",
      "\n",
      "### 什么是 Microsoft GraphRAG?\n",
      "\n",
      "**引言**  \n",
      "Microsoft GraphRAG是Microsoft推出的一种先进的生成式人工智能框架。它结合了图数据库技术与传统的检索增强生成（RAG）模型，以提供更高效的信息检索和内容生成能力。\n",
      "\n",
      "**核心功能**  \n",
      "- **图数据库集成**：利用图数据库的强大结构，GraphRAG能够更好地理解和处理复杂的关系和数据。\n",
      "- **智能检索**：通过对关系数据的智能分析，GraphRAG能迅速找到最相关的信息片段。\n",
      "- **生成技术**：结合生成式模型，GraphRAG不仅能检索信息，还能生成高质量的文字内容。\n",
      "\n",
      "### Vector-based RAG 与 GraphRAG 的对比\n",
      "\n",
      "**概述**  \n",
      "向量基础的RAG模型主要依赖文本的向量表示和距离计算来进行检索，而GraphRAG则采用更为复杂的图结构进行信息处理。\n",
      "\n",
      "**技术比较**  \n",
      "- **信息检索效率**：GraphRAG在处理关系密集的数据时表现优异，能够提供更相关的查询结果。\n",
      "- **数据结构**：向量模型通常使用固定维度的向量空间，而GraphRAG则利用图节点和边的灵活性，更直观地表示数据之间的关系。\n",
      "- **使用场景**：GraphRAG适合那些有复杂关系的数据集，比如社交网络分析或推荐系统，而向量模型则适合直接基于文本的问答系统。\n",
      "\n",
      "**总结**  \n",
      "GraphRAG的出现预示着信息检索和内容生成领域的重大进步，为行业带来了新的可能性和效率提升。\n",
      "\n",
      "---\n",
      "\n",
      "请您稍后再尝试使用搜索功能，以获取更详细的信息。一旦可以检索到相关数据，我将及时更新内容并帮助您保存博客。'\n",
      "# Assistant - WriteBlog: '### 什么是 Microsoft GraphRAG?\n",
      "\n",
      "**引言**\n",
      "Microsoft GraphRAG是微软推出的一种最新的生成式人工智能框架，通过结合图数据库技术与现代检索增强生成（RAG）模型，GraphRAG旨在提高信息检索的效率和内容生成的质量。\n",
      "\n",
      "**核心功能**\n",
      "- **图数据库集成**：GraphRAG利用图数据库的丰富结构，能有效理解和管理复杂数据及其关系，优化知识的存储与访问。\n",
      "- **智能检索**：通过分析图中的关系，GraphRAG可以快速精准地检索到最相关的信息片段，提高用户获得所需信息的效率。\n",
      "- **生成技术**：结合生成模型，GraphRAG不仅具备高效的信息检索能力，还能基于检索结果生成自然流畅的文字内容，为用户提供更全面的服务。\n",
      "\n",
      "### Vector-based RAG 与 GraphRAG 的比较\n",
      "\n",
      "**概述**\n",
      "向量基础的检索增强生成（RAG）模型主要使用文本的向量表示和距离计算方式进行信息检索，而GraphRAG则通过复杂的图结构对信息进行更深层次的处理，推动信息检索和生成的效率与准确率。\n",
      "\n",
      "**技术比较**\n",
      "- **信息检索效率**：在处理关系复杂的数据时（如社交网络数据或知识图谱），GraphRAG的表现尤为突出，能够提供更加相关和上下文丰富的查询结果。\n",
      "- **数据结构**：向量模型通常依赖固定维度的向量空间来表示信息，而GraphRAG则使用图节点和边的动态关系表示，使其能够更自然地展示和处理数据之间的复杂关系。\n",
      "- **使用场景**：GraphRAG尤其适合那些需要分析和生成内容的复杂关系数据场景，例如社交网络分析、商业智能、推荐系统等，而向量基础的RAG则更适合于直接基于文本的问答系统。\n",
      "\n",
      "**总结**\n",
      "GraphRAG的推出标志着信息检索与内容生成领域的技术进步，为企业和开发者提供了新的工具和思路，以应对现代数据处理的挑战。随着技术的不断进步，GraphRAG将带来更加智能和个性化的用户体验。\n",
      "\n",
      "---\n",
      "\n",
      "这个博客框架提供了Microsoft GraphRAG的基本信息以及其与向量基础RAG的比较。希望能够帮助您进一步完善和发布您的博客！如果后续需要补充更多细节，欢迎随时联系我。'\n",
      "###### 什么是 Microsoft GraphRAG?\n",
      "\n",
      "**引言**  \n",
      "Microsoft GraphRAG是微软推出的一种最新的生成式人工智能框架，通过结合图数据库技术与现代检索增强生成（RAG）模型，GraphRAG旨在提高信息检索的效率和内容生成的质量。\n",
      "\n",
      "**核心功能**  \n",
      "- **图数据库集成**：GraphRAG利用图数据库的丰富结构，能有效理解和管理复杂数据及其关系，优化知识的存储与访问。  \n",
      "- **智能检索**：通过分析图中的关系，GraphRAG可以快速精准地检索到最相关的信息片段，提高用户获得所需信息的效率。  \n",
      "- **生成技术**：结合生成模型，GraphRAG不仅具备高效的信息检索能力，还能基于检索结果生成自然流畅的文字内容，为用户提供更全面的服务。\n",
      "\n",
      "### Vector-based RAG 与 GraphRAG 的比较\n",
      "\n",
      "**概述**  \n",
      "向量基础的检索增强生成（RAG）模型主要使用文本的向量表示和距离计算方式进行信息检索，而GraphRAG则通过复杂的图结构对信息进行更深层次的处理，推动信息检索和生成的效率与准确率。\n",
      "\n",
      "**技术比较**  \n",
      "- **信息检索效率**：在处理关系复杂的数据时（如社交网络数据或知识图谱），GraphRAG的表现尤为突出，能够提供更加相关和上下文丰富的查询结果。  \n",
      "- **数据结构**：向量模型通常依赖固定维度的向量空间来表示信息，而GraphRAG则使用图节点和边的动态关系表示，使其能够更自然地展示和处理数据之间的复杂关系。  \n",
      "- **使用场景**：GraphRAG尤其适合那些需要分析和生成内容的复杂关系数据场景，例如社交网络分析、商业智能、推荐系统等，而向量基础的RAG则更适合于直接基于文本的问答系统。\n",
      "\n",
      "**总结**  \n",
      "GraphRAG的推出标志着信息检索与内容生成领域的技术进步，为企业和开发者提供了新的工具和思路，以应对现代数据处理的挑战。随着技术的不断进步，GraphRAG将带来更加智能和个性化的用户体验。/mnt/data/blog-241231050556.md# Assistant - SaveBlog: '您的博客已经成功保存。若有其他需求或需要进一步修改内容，请随时告知！'\n",
      "# Assistant - Search: '您的博客关于 Microsoft GraphRAG 和 Vector-based RAG 与 GraphRAG 的比较已成功保存。如果您有其他问题或需要进一步的帮助或修改，请随时告诉我！'\n",
      "# Assistant - WriteBlog: '如果您有其他问题或者需要进一步的信息，随时告诉我！无论是想要扩展博客内容、添加新的主题，还是询问其他技术问题，我都很乐意帮助您。'\n",
      "# Assistant - SaveBlog: '如果您对其他内容有需求或有任何问题，请随时告诉我！无论是扩展博客内容、添加新主题，还是询问其他技术问题，我都乐意为您提供帮助。'\n",
      "# Assistant - Search: '您的博客已经成功保存，若还有其他需求或者想要添加新内容、问答等，请随时告诉我！我在这里帮助您。'\n",
      "# Assistant - WriteBlog: '如果您需要在博客中添加更多信息或进行修改，请告诉我。无论是补充GraphRAG的应用实例，还是讨论其他与技术相关的话题，我都乐意帮助您！'\n",
      "# Assistant - SaveBlog: '请问您有什么其他需要帮助的内容吗？无论是进一步的博客构思、技术讨论或任何其他问题，随时告知我！'\n",
      "# Assistant - Search: '您的博客已经保存。如果您有其他问题，想要添加更多内容，或者需要任何帮助，请随时告诉我！'\n"
     ]
    }
   ],
   "source": [
    "#pragma warning disable SKEXP0110   \n",
    "#pragma warning disable SKEXP0001\n",
    "      \n",
    "\n",
    "\n",
    "await foreach (ChatMessageContent content in chat.InvokeAsync())\n",
    "{\n",
    "    Console.WriteLine($\"# {content.Role} - {content.AuthorName ?? \"*\"}: '{content.Content}'\");\n",
    "}"
   ]
  }
 ],
 "metadata": {
  "kernelspec": {
   "display_name": ".NET (C#)",
   "language": "C#",
   "name": ".net-csharp"
  },
  "language_info": {
   "name": "python"
  },
  "polyglot_notebook": {
   "kernelInfo": {
    "defaultKernelName": "csharp",
    "items": [
     {
      "aliases": [],
      "name": "csharp"
     }
    ]
   }
  }
 },
 "nbformat": 4,
 "nbformat_minor": 2
}
