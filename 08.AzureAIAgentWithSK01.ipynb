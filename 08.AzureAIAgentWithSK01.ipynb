{
 "cells": [
  {
   "cell_type": "code",
   "execution_count": 1,
   "metadata": {
    "dotnet_interactive": {
     "language": "csharp"
    },
    "polyglot_notebook": {
     "kernelName": "csharp"
    },
    "vscode": {
     "languageId": "polyglot-notebook"
    }
   },
   "outputs": [
    {
     "data": {
      "text/html": [
       "<div><div></div><div></div><div><strong>Installed Packages</strong><ul><li><span>Microsoft.SemanticKernel.Agents.Abstractions, 1.32.0-alpha</span></li><li><span>Microsoft.SemanticKernel.Agents.Core, 1.32.0-alpha</span></li><li><span>Microsoft.SemanticKernel.Agents.OpenAI, 1.32.0-alpha</span></li><li><span>Microsoft.SemanticKernel.Connectors.AzureOpenAI, 1.32.0</span></li></ul></div></div>"
      ]
     },
     "metadata": {},
     "output_type": "display_data"
    }
   ],
   "source": [
    "#r \"nuget: Microsoft.SemanticKernel.Agents.Abstractions, *-*\"\n",
    "#r \"nuget: Microsoft.SemanticKernel.Agents.Core, *-*\"\n",
    "#r \"nuget: Microsoft.SemanticKernel.Agents.OpenAI, *-*\"\n",
    "#r \"nuget: Microsoft.SemanticKernel.Connectors.AzureOpenAI, *-*\""
   ]
  },
  {
   "cell_type": "code",
   "execution_count": 2,
   "metadata": {
    "dotnet_interactive": {
     "language": "csharp"
    },
    "polyglot_notebook": {
     "kernelName": "csharp"
    },
    "vscode": {
     "languageId": "polyglot-notebook"
    }
   },
   "outputs": [],
   "source": [
    "using System.ComponentModel;\n",
    "using Microsoft.SemanticKernel;\n",
    "using Microsoft.SemanticKernel.Agents;\n",
    "using Microsoft.SemanticKernel.ChatCompletion;\n",
    "using Microsoft.SemanticKernel.Connectors.AzureOpenAI;"
   ]
  },
  {
   "cell_type": "code",
   "execution_count": 3,
   "metadata": {
    "dotnet_interactive": {
     "language": "csharp"
    },
    "polyglot_notebook": {
     "kernelName": "csharp"
    },
    "vscode": {
     "languageId": "polyglot-notebook"
    }
   },
   "outputs": [],
   "source": [
    "var deployment = \"gpt-4o-mini\";\n",
    "var endpoint = \"Your AOAI endpoint\";\n",
    "var key = \"Your AOAI Key\";"
   ]
  },
  {
   "cell_type": "code",
   "execution_count": 4,
   "metadata": {
    "dotnet_interactive": {
     "language": "csharp"
    },
    "polyglot_notebook": {
     "kernelName": "csharp"
    },
    "vscode": {
     "languageId": "polyglot-notebook"
    }
   },
   "outputs": [],
   "source": [
    "#pragma warning disable SKEXP0010\n",
    "\n",
    "var kernel = Kernel.CreateBuilder()\n",
    "    .AddAzureOpenAIChatCompletion(deployment, endpoint, key)\n",
    "    .Build();"
   ]
  },
  {
   "cell_type": "code",
   "execution_count": 6,
   "metadata": {
    "dotnet_interactive": {
     "language": "csharp"
    },
    "polyglot_notebook": {
     "kernelName": "csharp"
    },
    "vscode": {
     "languageId": "polyglot-notebook"
    }
   },
   "outputs": [
    {
     "data": {
      "text/html": [
       "<div><div></div><div></div><div><strong>Installed Packages</strong><ul><li><span>Azure.AI.Projects, 1.0.0-beta.2</span></li><li><span>Azure.Identity, 1.13.1</span></li></ul></div></div>"
      ]
     },
     "metadata": {},
     "output_type": "display_data"
    }
   ],
   "source": [
    "#r \"nuget: Azure.AI.Projects, 1.0.0-beta.2\"\n",
    "\n",
    "#r \"nuget: Azure.Identity, 1.13.1\""
   ]
  },
  {
   "cell_type": "code",
   "execution_count": 7,
   "metadata": {
    "dotnet_interactive": {
     "language": "csharp"
    },
    "polyglot_notebook": {
     "kernelName": "csharp"
    },
    "vscode": {
     "languageId": "polyglot-notebook"
    }
   },
   "outputs": [],
   "source": [
    "\n",
    "using System;\n",
    "using System.Collections.Generic;\n",
    "using System.Threading.Tasks;\n",
    "\n",
    "using Azure.Identity;\n",
    "using Azure.AI.Projects;\n",
    "using Azure.Core;\n",
    "using Azure.Core.Pipeline;"
   ]
  },
  {
   "cell_type": "code",
   "execution_count": 8,
   "metadata": {
    "dotnet_interactive": {
     "language": "csharp"
    },
    "polyglot_notebook": {
     "kernelName": "csharp"
    },
    "vscode": {
     "languageId": "polyglot-notebook"
    }
   },
   "outputs": [],
   "source": [
    "internal class CustomHeadersPolicy : HttpPipelineSynchronousPolicy\n",
    "{\n",
    "    public override void OnSendingRequest(HttpMessage message)\n",
    "    {\n",
    "        message.Request.Headers.Add(\"x-ms-enable-preview\", \"true\");\n",
    "    }\n",
    "}"
   ]
  },
  {
   "cell_type": "code",
   "execution_count": 9,
   "metadata": {
    "dotnet_interactive": {
     "language": "csharp"
    },
    "polyglot_notebook": {
     "kernelName": "csharp"
    },
    "vscode": {
     "languageId": "polyglot-notebook"
    }
   },
   "outputs": [],
   "source": [
    "    public sealed class SearchPlugin\n",
    "    {\n",
    "        [KernelFunction, Description(\"Search by Bing\")]\n",
    "        [System.Diagnostics.CodeAnalysis.SuppressMessage(\"Design\", \"CA1024:Use properties where appropriate\", Justification = \"Too smart\")]\n",
    "        public async Task<string> Search([Description(\"search Item\")]\n",
    "            string searchItem)\n",
    "        {\n",
    "\n",
    "            var connectionString = \"Your Azure AI Agent Service Connection String\";\n",
    "\n",
    "            var clientOptions = new AIProjectClientOptions();\n",
    "\n",
    "            // Adding the custom headers policy\n",
    "            clientOptions.AddPolicy(new CustomHeadersPolicy(), HttpPipelinePosition.PerCall);\n",
    "            var projectClient = new AIProjectClient(connectionString, new DefaultAzureCredential(), clientOptions);\n",
    "\n",
    "            ConnectionResponse bingConnection = await projectClient.GetConnectionsClient().GetConnectionAsync(\"kinfey-bing-search\");\n",
    "            var connectionId = bingConnection.Id;\n",
    "\n",
    "            AgentsClient agentClient = projectClient.GetAgentsClient();\n",
    "\n",
    "            ToolConnectionList connectionList = new ToolConnectionList\n",
    "            {\n",
    "                ConnectionList = { new ToolConnection(connectionId) }\n",
    "            };\n",
    "            BingGroundingToolDefinition bingGroundingTool = new BingGroundingToolDefinition(connectionList);\n",
    "\n",
    "            Azure.Response<Azure.AI.Projects.Agent> agentResponse = await agentClient.CreateAgentAsync(\n",
    "            model: \"gpt-4-1106-preview\",\n",
    "            name: \"my-assistant\",\n",
    "            instructions: \"You are a helpful assistant.\",\n",
    "            tools: new List<ToolDefinition> { bingGroundingTool });\n",
    "            Azure.AI.Projects.Agent agent = agentResponse.Value;\n",
    "\n",
    "            // Create thread for communication\n",
    "            Azure.Response<AgentThread> threadResponse = await agentClient.CreateThreadAsync();\n",
    "            AgentThread thread = threadResponse.Value;\n",
    "\n",
    "            // Create message to thread\n",
    "            Azure.Response<ThreadMessage> messageResponse = await agentClient.CreateMessageAsync(\n",
    "                thread.Id,\n",
    "                MessageRole.User,\n",
    "                \"How does wikipedia explain Euler's Identity?\");\n",
    "            ThreadMessage message = messageResponse.Value;\n",
    "\n",
    "            // Run the agent\n",
    "            Azure.Response<ThreadRun> runResponse = await agentClient.CreateRunAsync(thread, agent);\n",
    "\n",
    "            do\n",
    "            {\n",
    "                await Task.Delay(TimeSpan.FromMilliseconds(500));\n",
    "                runResponse = await agentClient.GetRunAsync(thread.Id, runResponse.Value.Id);\n",
    "            }\n",
    "            while (runResponse.Value.Status == RunStatus.Queued\n",
    "                || runResponse.Value.Status == RunStatus.InProgress);\n",
    "\n",
    "            Azure.Response<PageableList<ThreadMessage>> afterRunMessagesResponse\n",
    "                = await agentClient.GetMessagesAsync(thread.Id);\n",
    "            IReadOnlyList<ThreadMessage> messages = afterRunMessagesResponse.Value.Data;\n",
    "\n",
    "            string searchResult = \"\";\n",
    "\n",
    "            // Note: messages iterate from newest to oldest, with the messages[0] being the most recent\n",
    "            foreach (ThreadMessage threadMessage in messages)\n",
    "            {\n",
    "                Console.Write($\"{threadMessage.CreatedAt:yyyy-MM-dd HH:mm:ss} - {threadMessage.Role,10}: \");\n",
    "\n",
    "                if(threadMessage.Role.ToString().ToLower()==\"assistant\")\n",
    "                {\n",
    "                    foreach (MessageContent contentItem in threadMessage.ContentItems)\n",
    "                    {\n",
    "                        if (contentItem is MessageTextContent textItem)\n",
    "                        {\n",
    "                            Console.Write(textItem.Text);\n",
    "                            searchResult = textItem.Text;\n",
    "                        }\n",
    "                        break;\n",
    "                        // Console.WriteLine();\n",
    "                    }\n",
    "                }\n",
    "            }\n",
    "\n",
    "            return searchResult;\n",
    "        }\n",
    "    }"
   ]
  },
  {
   "cell_type": "code",
   "execution_count": 10,
   "metadata": {
    "dotnet_interactive": {
     "language": "csharp"
    },
    "polyglot_notebook": {
     "kernelName": "csharp"
    },
    "vscode": {
     "languageId": "polyglot-notebook"
    }
   },
   "outputs": [],
   "source": [
    "const string HostName = \"SeachAssistant\";\n",
    "const string HostInstructions = \"Search information \";"
   ]
  },
  {
   "cell_type": "code",
   "execution_count": 11,
   "metadata": {
    "dotnet_interactive": {
     "language": "csharp"
    },
    "polyglot_notebook": {
     "kernelName": "csharp"
    },
    "vscode": {
     "languageId": "polyglot-notebook"
    }
   },
   "outputs": [],
   "source": [
    "#pragma warning disable SKEXP0110\n",
    "\n",
    "\n",
    "\n",
    "ChatCompletionAgent agent =\n",
    "            new()\n",
    "            {\n",
    "                Instructions = HostInstructions,\n",
    "                Name = HostName,\n",
    "                Kernel = kernel,\n",
    "                Arguments = new KernelArguments(new AzureOpenAIPromptExecutionSettings() { FunctionChoiceBehavior = FunctionChoiceBehavior.Auto() }),\n",
    "            };"
   ]
  },
  {
   "cell_type": "code",
   "execution_count": 12,
   "metadata": {
    "dotnet_interactive": {
     "language": "csharp"
    },
    "polyglot_notebook": {
     "kernelName": "csharp"
    },
    "vscode": {
     "languageId": "polyglot-notebook"
    }
   },
   "outputs": [],
   "source": [
    "#pragma warning disable SKEXP0110\n",
    "\n",
    "KernelPlugin plugin = KernelPluginFactory.CreateFromType<SearchPlugin>();\n",
    "agent.Kernel.Plugins.Add(plugin);"
   ]
  },
  {
   "cell_type": "code",
   "execution_count": 13,
   "metadata": {
    "dotnet_interactive": {
     "language": "csharp"
    },
    "polyglot_notebook": {
     "kernelName": "csharp"
    },
    "vscode": {
     "languageId": "polyglot-notebook"
    }
   },
   "outputs": [],
   "source": [
    "ChatHistory chat = [];"
   ]
  },
  {
   "cell_type": "code",
   "execution_count": 14,
   "metadata": {
    "dotnet_interactive": {
     "language": "csharp"
    },
    "polyglot_notebook": {
     "kernelName": "csharp"
    },
    "vscode": {
     "languageId": "polyglot-notebook"
    }
   },
   "outputs": [
    {
     "name": "stdout",
     "output_type": "stream",
     "text": [
      "# user: '介绍一下华南师范大学'\n"
     ]
    }
   ],
   "source": [
    "#pragma warning disable SKEXP0110\n",
    "#pragma warning disable SKEXP0001\n",
    "\n",
    "var input = \"介绍一下华南师范大学\";\n",
    "\n",
    "chat.Add(new ChatMessageContent(AuthorRole.User, input));\n",
    "Console.WriteLine($\"# {AuthorRole.User}: '{input}'\");"
   ]
  },
  {
   "cell_type": "code",
   "execution_count": 15,
   "metadata": {
    "dotnet_interactive": {
     "language": "csharp"
    },
    "polyglot_notebook": {
     "kernelName": "csharp"
    },
    "vscode": {
     "languageId": "polyglot-notebook"
    }
   },
   "outputs": [],
   "source": [
    "#pragma warning disable SKEXP0110\n",
    "\n",
    "var agentContent = agent.InvokeAsync(chat);"
   ]
  },
  {
   "cell_type": "code",
   "execution_count": 16,
   "metadata": {
    "dotnet_interactive": {
     "language": "csharp"
    },
    "polyglot_notebook": {
     "kernelName": "csharp"
    },
    "vscode": {
     "languageId": "polyglot-notebook"
    }
   },
   "outputs": [
    {
     "name": "stdout",
     "output_type": "stream",
     "text": [
      "# SeachAssistant: '华南师范大学（South China Normal University，简称华师，SCNU）是中华人民共和国广东省的一所重点大学，创建于1933年。华南师范大学是一所以教育为特色，涵盖多学科的综合性大学，在师范、教育、心理学等领域具有较强的学术地位和影响力。\n",
      "\n",
      "### 基本信息\n",
      "- **地点**：广州，广东省\n",
      "- **校训**：厚德载物、止于至善\n",
      "- **校园环境**：校园绿化良好，建筑风格结合了现代与传统元素。\n",
      "\n",
      "### 学术与研究\n",
      "华南师范大学设有多个学院，包括但不限于教育学院、心理学院、文学院、理学院等。学校积极参与国内外学术交流与合作，建立了多项国际合作伙伴关系。\n",
      "\n",
      "### 学生生活\n",
      "华南师范大学注重学生的全面发展，除了学术课程外，还提供丰富的课外活动，包括社团、体育活动、文化艺术活动等。学生们可以在这里享受到多样化的校园文化生活。\n",
      "\n",
      "如需更详细的信息或特定部门的介绍，欢迎询问！'\n"
     ]
    }
   ],
   "source": [
    "#pragma warning disable SKEXP0110\n",
    "#pragma warning disable SKEXP0001\n",
    "\n",
    "await foreach (var message in agentContent)\n",
    "{\n",
    "    chat.Add(message);\n",
    "    Console.WriteLine($\"# {message.AuthorName}: '{message.Content}'\");\n",
    "}"
   ]
  }
 ],
 "metadata": {
  "kernelspec": {
   "display_name": ".NET (C#)",
   "language": "C#",
   "name": ".net-csharp"
  },
  "language_info": {
   "name": "python"
  },
  "polyglot_notebook": {
   "kernelInfo": {
    "defaultKernelName": "csharp",
    "items": [
     {
      "aliases": [],
      "name": "csharp"
     }
    ]
   }
  }
 },
 "nbformat": 4,
 "nbformat_minor": 2
}
