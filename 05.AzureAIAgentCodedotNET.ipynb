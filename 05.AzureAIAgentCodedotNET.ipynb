{
 "cells": [
  {
   "cell_type": "code",
   "execution_count": 1,
   "metadata": {
    "dotnet_interactive": {
     "language": "csharp"
    },
    "polyglot_notebook": {
     "kernelName": "csharp"
    },
    "vscode": {
     "languageId": "polyglot-notebook"
    }
   },
   "outputs": [
    {
     "data": {
      "text/html": [
       "<div><div></div><div></div><div><strong>Installed Packages</strong><ul><li><span>Azure.AI.Projects, 1.0.0-beta.2</span></li></ul></div></div>"
      ]
     },
     "metadata": {},
     "output_type": "display_data"
    }
   ],
   "source": [
    "#r \"nuget: Azure.AI.Projects, 1.0.0-beta.2\""
   ]
  },
  {
   "cell_type": "code",
   "execution_count": 2,
   "metadata": {
    "dotnet_interactive": {
     "language": "csharp"
    },
    "polyglot_notebook": {
     "kernelName": "csharp"
    },
    "vscode": {
     "languageId": "polyglot-notebook"
    }
   },
   "outputs": [],
   "source": [
    "var connectionString = \"Your Azure AI Agent Service Connection String\";"
   ]
  },
  {
   "cell_type": "code",
   "execution_count": 3,
   "metadata": {
    "dotnet_interactive": {
     "language": "csharp"
    },
    "polyglot_notebook": {
     "kernelName": "csharp"
    },
    "vscode": {
     "languageId": "polyglot-notebook"
    }
   },
   "outputs": [
    {
     "data": {
      "text/html": [
       "<div><div></div><div></div><div><strong>Installed Packages</strong><ul><li><span>Azure.Identity, 1.13.1</span></li></ul></div></div>"
      ]
     },
     "metadata": {},
     "output_type": "display_data"
    }
   ],
   "source": [
    "#r \"nuget: Azure.Identity, 1.13.1\""
   ]
  },
  {
   "cell_type": "code",
   "execution_count": 4,
   "metadata": {
    "dotnet_interactive": {
     "language": "csharp"
    },
    "polyglot_notebook": {
     "kernelName": "csharp"
    },
    "vscode": {
     "languageId": "polyglot-notebook"
    }
   },
   "outputs": [],
   "source": [
    "\n",
    "using Azure.Core;\n",
    "\n",
    "using Azure.Identity;\n",
    "\n",
    "using Azure.AI.Projects;"
   ]
  },
  {
   "cell_type": "code",
   "execution_count": 5,
   "metadata": {
    "dotnet_interactive": {
     "language": "csharp"
    },
    "polyglot_notebook": {
     "kernelName": "csharp"
    },
    "vscode": {
     "languageId": "polyglot-notebook"
    }
   },
   "outputs": [],
   "source": [
    "\n",
    "AgentsClient client = new AgentsClient(connectionString, new DefaultAzureCredential());"
   ]
  },
  {
   "cell_type": "code",
   "execution_count": 6,
   "metadata": {
    "dotnet_interactive": {
     "language": "csharp"
    },
    "polyglot_notebook": {
     "kernelName": "csharp"
    },
    "vscode": {
     "languageId": "polyglot-notebook"
    }
   },
   "outputs": [],
   "source": [
    "using System.Threading.Tasks;"
   ]
  },
  {
   "cell_type": "code",
   "execution_count": 7,
   "metadata": {
    "dotnet_interactive": {
     "language": "csharp"
    },
    "polyglot_notebook": {
     "kernelName": "csharp"
    },
    "vscode": {
     "languageId": "polyglot-notebook"
    }
   },
   "outputs": [],
   "source": [
    "Azure.Response<Agent> agentResponse = await client.CreateAgentAsync(\n",
    "            model: \"gpt-4o-mini\",\n",
    "            name: \"code-agent\",\n",
    "            instructions: \"You are a personal python assistant. Write and run code to answer questions.\",\n",
    "            tools: new List<ToolDefinition> { new CodeInterpreterToolDefinition() });"
   ]
  },
  {
   "cell_type": "code",
   "execution_count": 8,
   "metadata": {
    "dotnet_interactive": {
     "language": "csharp"
    },
    "polyglot_notebook": {
     "kernelName": "csharp"
    },
    "vscode": {
     "languageId": "polyglot-notebook"
    }
   },
   "outputs": [],
   "source": [
    "Agent agent = agentResponse.Value;"
   ]
  },
  {
   "cell_type": "code",
   "execution_count": 9,
   "metadata": {
    "dotnet_interactive": {
     "language": "csharp"
    },
    "polyglot_notebook": {
     "kernelName": "csharp"
    },
    "vscode": {
     "languageId": "polyglot-notebook"
    }
   },
   "outputs": [],
   "source": [
    "using System;\n",
    "using System.Collections.Generic;"
   ]
  },
  {
   "cell_type": "code",
   "execution_count": 10,
   "metadata": {
    "dotnet_interactive": {
     "language": "csharp"
    },
    "polyglot_notebook": {
     "kernelName": "csharp"
    },
    "vscode": {
     "languageId": "polyglot-notebook"
    }
   },
   "outputs": [],
   "source": [
    "Azure.Response<PageableList<Agent>> agentListResponse = await client.GetAgentsAsync();"
   ]
  },
  {
   "cell_type": "code",
   "execution_count": 11,
   "metadata": {
    "dotnet_interactive": {
     "language": "csharp"
    },
    "polyglot_notebook": {
     "kernelName": "csharp"
    },
    "vscode": {
     "languageId": "polyglot-notebook"
    }
   },
   "outputs": [],
   "source": [
    "Azure.Response<AgentThread> threadResponse = await client.CreateThreadAsync();\n",
    "AgentThread thread = threadResponse.Value;"
   ]
  },
  {
   "cell_type": "code",
   "execution_count": 12,
   "metadata": {
    "dotnet_interactive": {
     "language": "csharp"
    },
    "polyglot_notebook": {
     "kernelName": "csharp"
    },
    "vscode": {
     "languageId": "polyglot-notebook"
    }
   },
   "outputs": [],
   "source": [
    " Azure.Response<ThreadMessage> messageResponse = await client.CreateMessageAsync(\n",
    "            thread.Id,\n",
    "            MessageRole.User,\n",
    "            @\"You are my Python programming assistant. Generate code and execute it according to the following requirements\n",
    "                1. Save file as blog-{YYMMDDHHMMSS}.md\n",
    "                2. give me the download this file link\n",
    "            \");"
   ]
  },
  {
   "cell_type": "code",
   "execution_count": 13,
   "metadata": {
    "dotnet_interactive": {
     "language": "csharp"
    },
    "polyglot_notebook": {
     "kernelName": "csharp"
    },
    "vscode": {
     "languageId": "polyglot-notebook"
    }
   },
   "outputs": [],
   "source": [
    "ThreadMessage message = messageResponse.Value;"
   ]
  },
  {
   "cell_type": "code",
   "execution_count": 14,
   "metadata": {
    "dotnet_interactive": {
     "language": "csharp"
    },
    "polyglot_notebook": {
     "kernelName": "csharp"
    },
    "vscode": {
     "languageId": "polyglot-notebook"
    }
   },
   "outputs": [],
   "source": [
    "Azure.Response<PageableList<ThreadMessage>> messagesListResponse = await client.GetMessagesAsync(thread.Id);"
   ]
  },
  {
   "cell_type": "code",
   "execution_count": 15,
   "metadata": {
    "dotnet_interactive": {
     "language": "csharp"
    },
    "polyglot_notebook": {
     "kernelName": "csharp"
    },
    "vscode": {
     "languageId": "polyglot-notebook"
    }
   },
   "outputs": [],
   "source": [
    "Azure.Response<ThreadRun> runResponse = await client.CreateRunAsync(\n",
    "            thread.Id,\n",
    "            agent.Id);\n",
    "        "
   ]
  },
  {
   "cell_type": "code",
   "execution_count": 16,
   "metadata": {
    "dotnet_interactive": {
     "language": "csharp"
    },
    "polyglot_notebook": {
     "kernelName": "csharp"
    },
    "vscode": {
     "languageId": "polyglot-notebook"
    }
   },
   "outputs": [],
   "source": [
    "ThreadRun run = runResponse.Value;"
   ]
  },
  {
   "cell_type": "code",
   "execution_count": 17,
   "metadata": {
    "dotnet_interactive": {
     "language": "csharp"
    },
    "polyglot_notebook": {
     "kernelName": "csharp"
    },
    "vscode": {
     "languageId": "polyglot-notebook"
    }
   },
   "outputs": [],
   "source": [
    "do\n",
    "{\n",
    "            await Task.Delay(TimeSpan.FromMilliseconds(500));\n",
    "            runResponse = await client.GetRunAsync(thread.Id, runResponse.Value.Id);\n",
    "}\n",
    "while (runResponse.Value.Status == RunStatus.Queued\n",
    "            || runResponse.Value.Status == RunStatus.InProgress);"
   ]
  },
  {
   "cell_type": "code",
   "execution_count": 18,
   "metadata": {
    "dotnet_interactive": {
     "language": "csharp"
    },
    "polyglot_notebook": {
     "kernelName": "csharp"
    },
    "vscode": {
     "languageId": "polyglot-notebook"
    }
   },
   "outputs": [],
   "source": [
    "Azure.Response<PageableList<ThreadMessage>> afterRunMessagesResponse\n",
    "            = await client.GetMessagesAsync(thread.Id);\n",
    "IReadOnlyList<ThreadMessage> messages = afterRunMessagesResponse.Value.Data;\n"
   ]
  },
  {
   "cell_type": "code",
   "execution_count": 19,
   "metadata": {
    "dotnet_interactive": {
     "language": "csharp"
    },
    "polyglot_notebook": {
     "kernelName": "csharp"
    },
    "vscode": {
     "languageId": "polyglot-notebook"
    }
   },
   "outputs": [
    {
     "data": {
      "text/html": [
       "<details open=\"open\" class=\"dni-treeview\"><summary><span class=\"dni-code-hint\"><code>Status: 200, Value: Azure.AI.Projects.PageableList`1[Azure.AI.Projects.ThreadMessage]</code></span></summary><div><table><thead><tr></tr></thead><tbody><tr><td>Value</td><td><details class=\"dni-treeview\"><summary><span class=\"dni-code-hint\"><code>[ Azure.AI.Projects.ThreadMessage, Azure.AI.Projects.ThreadMessage ]</code></span></summary><div><table><thead><tr></tr></thead><tbody><tr><td>Data</td><td><table><thead><tr><th><i>index</i></th><th>value</th></tr></thead><tbody><tr><td>0</td><td><details class=\"dni-treeview\"><summary><span class=\"dni-code-hint\"><code>Azure.AI.Projects.ThreadMessage</code></span></summary><div><table><thead><tr></tr></thead><tbody><tr><td>Id</td><td><div class=\"dni-plaintext\"><pre>msg_xMJiNcGUf4fop4RWGLeKEdRN</pre></div></td></tr><tr><td>CreatedAt</td><td><span>2024-12-29 15:26:39Z</span></td></tr><tr><td>ThreadId</td><td><div class=\"dni-plaintext\"><pre>thread_88zPUePXqEZPaQsufG5HAVF6</pre></div></td></tr><tr><td>Status</td><td><details class=\"dni-treeview\"><summary><span class=\"dni-code-hint\"><code>System.NullReferenceException: Object reference not set to an instance of an object.\\n   at Microsoft.DotNet.Interactive.Formatting.PlainTextSummaryFormatter.Truncate(Object value) in D:\\a\\_work\\1\\s\\src\\Microsoft.DotNet.Interactive.Formatting\\PlainTextSummaryFormatter.cs:line 85\\n   at Microsoft.Dot...</code></span></summary><div><table><thead><tr></tr></thead><tbody></tbody></table></div></details></td></tr><tr><td>IncompleteDetails</td><td><div class=\"dni-plaintext\"><pre>&lt;null&gt;</pre></div></td></tr><tr><td>CompletedAt</td><td><div class=\"dni-plaintext\"><pre>&lt;null&gt;</pre></div></td></tr><tr><td>IncompleteAt</td><td><div class=\"dni-plaintext\"><pre>&lt;null&gt;</pre></div></td></tr><tr><td>Role</td><td><details class=\"dni-treeview\"><summary><span class=\"dni-code-hint\"><code>assistant</code></span></summary><div><table><thead><tr></tr></thead><tbody></tbody></table></div></details></td></tr><tr><td>ContentItems</td><td><table><thead><tr><th><i>index</i></th><th>value</th></tr></thead><tbody><tr><td>0</td><td><details class=\"dni-treeview\"><summary><span class=\"dni-code-hint\"><code>Azure.AI.Projects.MessageTextContent</code></span></summary><div><table><thead><tr></tr></thead><tbody><tr><td>Text</td><td>The blog file has been created and saved as `blog-241229152639.md`. You can download it using the link below:\n",
       "\n",
       "[Download blog-241229152639.md](sandbox:/mnt/data/blog-241229152639.md)</td></tr><tr><td>Annotations</td><td>[ Azure.AI.Projects.MessageTextFilePathAnnotation ]</td></tr></tbody></table></div></details></td></tr></tbody></table></td></tr><tr><td>AssistantId</td><td><div class=\"dni-plaintext\"><pre>asst_EOW8CQAj8zLDKqVwZHnb7UdZ</pre></div></td></tr><tr><td>RunId</td><td><div class=\"dni-plaintext\"><pre>run_fBrBc0jj1COxnSu85GXGr721</pre></div></td></tr><tr><td>Attachments</td><td><table><thead><tr><th><i>index</i></th><th>value</th></tr></thead><tbody><tr><td>0</td><td><details class=\"dni-treeview\"><summary><span class=\"dni-code-hint\"><code>Azure.AI.Projects.MessageAttachment</code></span></summary><div><table><thead><tr></tr></thead><tbody><tr><td>FileId</td><td>assistant-FHVIVedqsokRZOI583s4rxdt</td></tr><tr><td>DataSource</td><td><div class=\"dni-plaintext\"><pre>&lt;null&gt;</pre></div></td></tr><tr><td>Tools</td><td>[ {\n",
       "              \"type\": \"code_interpreter\"\n",
       "            } ]</td></tr></tbody></table></div></details></td></tr></tbody></table></td></tr><tr><td>Metadata</td><td><i>(empty)</i></td></tr></tbody></table></div></details></td></tr><tr><td>1</td><td><details class=\"dni-treeview\"><summary><span class=\"dni-code-hint\"><code>Azure.AI.Projects.ThreadMessage</code></span></summary><div><table><thead><tr></tr></thead><tbody><tr><td>Id</td><td><div class=\"dni-plaintext\"><pre>msg_WdgYUilMvwQ7swgdb91O8i4j</pre></div></td></tr><tr><td>CreatedAt</td><td><span>2024-12-29 15:26:35Z</span></td></tr><tr><td>ThreadId</td><td><div class=\"dni-plaintext\"><pre>thread_88zPUePXqEZPaQsufG5HAVF6</pre></div></td></tr><tr><td>Status</td><td><details class=\"dni-treeview\"><summary><span class=\"dni-code-hint\"><code>System.NullReferenceException: Object reference not set to an instance of an object.\\n   at Microsoft.DotNet.Interactive.Formatting.PlainTextSummaryFormatter.Truncate(Object value) in D:\\a\\_work\\1\\s\\src\\Microsoft.DotNet.Interactive.Formatting\\PlainTextSummaryFormatter.cs:line 85\\n   at Microsoft.Dot...</code></span></summary><div><table><thead><tr></tr></thead><tbody></tbody></table></div></details></td></tr><tr><td>IncompleteDetails</td><td><div class=\"dni-plaintext\"><pre>&lt;null&gt;</pre></div></td></tr><tr><td>CompletedAt</td><td><div class=\"dni-plaintext\"><pre>&lt;null&gt;</pre></div></td></tr><tr><td>IncompleteAt</td><td><div class=\"dni-plaintext\"><pre>&lt;null&gt;</pre></div></td></tr><tr><td>Role</td><td><details class=\"dni-treeview\"><summary><span class=\"dni-code-hint\"><code>user</code></span></summary><div><table><thead><tr></tr></thead><tbody></tbody></table></div></details></td></tr><tr><td>ContentItems</td><td><table><thead><tr><th><i>index</i></th><th>value</th></tr></thead><tbody><tr><td>0</td><td><details class=\"dni-treeview\"><summary><span class=\"dni-code-hint\"><code>Azure.AI.Projects.MessageTextContent</code></span></summary><div><table><thead><tr></tr></thead><tbody><tr><td>Text</td><td>You are my Python programming assistant. Generate code and execute it according to the following requirements\n",
       "                1. Save file as blog-{YYMMDDHHMMSS}.md\n",
       "                2. give me the download this file link\n",
       "            </td></tr><tr><td>Annotations</td><td>[  ]</td></tr></tbody></table></div></details></td></tr></tbody></table></td></tr><tr><td>AssistantId</td><td><div class=\"dni-plaintext\"><pre>&lt;null&gt;</pre></div></td></tr><tr><td>RunId</td><td><div class=\"dni-plaintext\"><pre>&lt;null&gt;</pre></div></td></tr><tr><td>Attachments</td><td><i>(empty)</i></td></tr><tr><td>Metadata</td><td><i>(empty)</i></td></tr></tbody></table></div></details></td></tr></tbody></table></td></tr><tr><td>FirstId</td><td><div class=\"dni-plaintext\"><pre>msg_xMJiNcGUf4fop4RWGLeKEdRN</pre></div></td></tr><tr><td>LastId</td><td><div class=\"dni-plaintext\"><pre>msg_WdgYUilMvwQ7swgdb91O8i4j</pre></div></td></tr><tr><td>HasMore</td><td><div class=\"dni-plaintext\"><pre>False</pre></div></td></tr><tr><td><i>(values)</i></td><td><table><thead><tr><th><i>index</i></th><th>value</th></tr></thead><tbody><tr><td>0</td><td><details class=\"dni-treeview\"><summary><span class=\"dni-code-hint\"><code>Azure.AI.Projects.ThreadMessage</code></span></summary><div><table><thead><tr></tr></thead><tbody><tr><td>Id</td><td><div class=\"dni-plaintext\"><pre>msg_xMJiNcGUf4fop4RWGLeKEdRN</pre></div></td></tr><tr><td>CreatedAt</td><td><span>2024-12-29 15:26:39Z</span></td></tr><tr><td>ThreadId</td><td><div class=\"dni-plaintext\"><pre>thread_88zPUePXqEZPaQsufG5HAVF6</pre></div></td></tr><tr><td>Status</td><td><details class=\"dni-treeview\"><summary><span class=\"dni-code-hint\"><code>System.NullReferenceException: Object reference not set to an instance of an object.\\n   at Microsoft.DotNet.Interactive.Formatting.PlainTextSummaryFormatter.Truncate(Object value) in D:\\a\\_work\\1\\s\\src\\Microsoft.DotNet.Interactive.Formatting\\PlainTextSummaryFormatter.cs:line 85\\n   at Microsoft.Dot...</code></span></summary><div><table><thead><tr></tr></thead><tbody></tbody></table></div></details></td></tr><tr><td>IncompleteDetails</td><td><div class=\"dni-plaintext\"><pre>&lt;null&gt;</pre></div></td></tr><tr><td>CompletedAt</td><td><div class=\"dni-plaintext\"><pre>&lt;null&gt;</pre></div></td></tr><tr><td>IncompleteAt</td><td><div class=\"dni-plaintext\"><pre>&lt;null&gt;</pre></div></td></tr><tr><td>Role</td><td><details class=\"dni-treeview\"><summary><span class=\"dni-code-hint\"><code>assistant</code></span></summary><div><table><thead><tr></tr></thead><tbody></tbody></table></div></details></td></tr><tr><td>ContentItems</td><td><table><thead><tr><th><i>index</i></th><th>value</th></tr></thead><tbody><tr><td>0</td><td><details class=\"dni-treeview\"><summary><span class=\"dni-code-hint\"><code>Azure.AI.Projects.MessageTextContent</code></span></summary><div><table><thead><tr></tr></thead><tbody><tr><td>Text</td><td><div class=\"dni-plaintext\"><pre>The blog file has been created and saved as `blog-241229152639.md`. You can download it using the link below:\n",
       "\n",
       "[Download blog-241229152639.md](sandbox:/mnt/data/blog-241229152639.md)</pre></div></td></tr><tr><td>Annotations</td><td><table><thead><tr><th><i>index</i></th><th>value</th></tr></thead><tbody><tr><td>0</td><td>Azure.AI.Projects.MessageTextFilePathAnnotation</td></tr></tbody></table></td></tr></tbody></table></div></details></td></tr></tbody></table></td></tr><tr><td>AssistantId</td><td><div class=\"dni-plaintext\"><pre>asst_EOW8CQAj8zLDKqVwZHnb7UdZ</pre></div></td></tr><tr><td>RunId</td><td><div class=\"dni-plaintext\"><pre>run_fBrBc0jj1COxnSu85GXGr721</pre></div></td></tr><tr><td>Attachments</td><td><table><thead><tr><th><i>index</i></th><th>value</th></tr></thead><tbody><tr><td>0</td><td><details class=\"dni-treeview\"><summary><span class=\"dni-code-hint\"><code>Azure.AI.Projects.MessageAttachment</code></span></summary><div><table><thead><tr></tr></thead><tbody><tr><td>FileId</td><td><div class=\"dni-plaintext\"><pre>assistant-FHVIVedqsokRZOI583s4rxdt</pre></div></td></tr><tr><td>DataSource</td><td><div class=\"dni-plaintext\"><pre>&lt;null&gt;</pre></div></td></tr><tr><td>Tools</td><td><table><thead><tr><th><i>index</i></th><th>value</th></tr></thead><tbody><tr><td>0</td><td>{\n",
       "              \"type\": \"code_interpreter\"\n",
       "            }</td></tr></tbody></table></td></tr></tbody></table></div></details></td></tr></tbody></table></td></tr><tr><td>Metadata</td><td><i>(empty)</i></td></tr></tbody></table></div></details></td></tr><tr><td>1</td><td><details class=\"dni-treeview\"><summary><span class=\"dni-code-hint\"><code>Azure.AI.Projects.ThreadMessage</code></span></summary><div><table><thead><tr></tr></thead><tbody><tr><td>Id</td><td><div class=\"dni-plaintext\"><pre>msg_WdgYUilMvwQ7swgdb91O8i4j</pre></div></td></tr><tr><td>CreatedAt</td><td><span>2024-12-29 15:26:35Z</span></td></tr><tr><td>ThreadId</td><td><div class=\"dni-plaintext\"><pre>thread_88zPUePXqEZPaQsufG5HAVF6</pre></div></td></tr><tr><td>Status</td><td><details class=\"dni-treeview\"><summary><span class=\"dni-code-hint\"><code>System.NullReferenceException: Object reference not set to an instance of an object.\\n   at Microsoft.DotNet.Interactive.Formatting.PlainTextSummaryFormatter.Truncate(Object value) in D:\\a\\_work\\1\\s\\src\\Microsoft.DotNet.Interactive.Formatting\\PlainTextSummaryFormatter.cs:line 85\\n   at Microsoft.Dot...</code></span></summary><div><table><thead><tr></tr></thead><tbody></tbody></table></div></details></td></tr><tr><td>IncompleteDetails</td><td><div class=\"dni-plaintext\"><pre>&lt;null&gt;</pre></div></td></tr><tr><td>CompletedAt</td><td><div class=\"dni-plaintext\"><pre>&lt;null&gt;</pre></div></td></tr><tr><td>IncompleteAt</td><td><div class=\"dni-plaintext\"><pre>&lt;null&gt;</pre></div></td></tr><tr><td>Role</td><td><details class=\"dni-treeview\"><summary><span class=\"dni-code-hint\"><code>user</code></span></summary><div><table><thead><tr></tr></thead><tbody></tbody></table></div></details></td></tr><tr><td>ContentItems</td><td><table><thead><tr><th><i>index</i></th><th>value</th></tr></thead><tbody><tr><td>0</td><td><details class=\"dni-treeview\"><summary><span class=\"dni-code-hint\"><code>Azure.AI.Projects.MessageTextContent</code></span></summary><div><table><thead><tr></tr></thead><tbody><tr><td>Text</td><td><div class=\"dni-plaintext\"><pre>You are my Python programming assistant. Generate code and execute it according to the following requirements\n",
       "                1. Save file as blog-{YYMMDDHHMMSS}.md\n",
       "                2. give me the download this file link\n",
       "            </pre></div></td></tr><tr><td>Annotations</td><td><i>(empty)</i></td></tr></tbody></table></div></details></td></tr></tbody></table></td></tr><tr><td>AssistantId</td><td><div class=\"dni-plaintext\"><pre>&lt;null&gt;</pre></div></td></tr><tr><td>RunId</td><td><div class=\"dni-plaintext\"><pre>&lt;null&gt;</pre></div></td></tr><tr><td>Attachments</td><td><i>(empty)</i></td></tr><tr><td>Metadata</td><td><i>(empty)</i></td></tr></tbody></table></div></details></td></tr></tbody></table></td></tr></tbody></table></div></details></td></tr><tr><td>HasValue</td><td><div class=\"dni-plaintext\"><pre>True</pre></div></td></tr></tbody></table></div></details><style>\r\n",
       ".dni-code-hint {\r\n",
       "    font-style: italic;\r\n",
       "    overflow: hidden;\r\n",
       "    white-space: nowrap;\r\n",
       "}\r\n",
       ".dni-treeview {\r\n",
       "    white-space: nowrap;\r\n",
       "}\r\n",
       ".dni-treeview td {\r\n",
       "    vertical-align: top;\r\n",
       "    text-align: start;\r\n",
       "}\r\n",
       "details.dni-treeview {\r\n",
       "    padding-left: 1em;\r\n",
       "}\r\n",
       "table td {\r\n",
       "    text-align: start;\r\n",
       "}\r\n",
       "table tr { \r\n",
       "    vertical-align: top; \r\n",
       "    margin: 0em 0px;\r\n",
       "}\r\n",
       "table tr td pre \r\n",
       "{ \r\n",
       "    vertical-align: top !important; \r\n",
       "    margin: 0em 0px !important;\r\n",
       "} \r\n",
       "table th {\r\n",
       "    text-align: start;\r\n",
       "}\r\n",
       "</style>"
      ]
     },
     "metadata": {},
     "output_type": "display_data"
    }
   ],
   "source": [
    "afterRunMessagesResponse"
   ]
  },
  {
   "cell_type": "code",
   "execution_count": 20,
   "metadata": {
    "dotnet_interactive": {
     "language": "csharp"
    },
    "polyglot_notebook": {
     "kernelName": "csharp"
    },
    "vscode": {
     "languageId": "polyglot-notebook"
    }
   },
   "outputs": [
    {
     "data": {
      "text/html": [
       "<table><thead><tr><th><i>index</i></th><th>value</th></tr></thead><tbody><tr><td>0</td><td><details class=\"dni-treeview\"><summary><span class=\"dni-code-hint\"><code>Azure.AI.Projects.ThreadMessage</code></span></summary><div><table><thead><tr></tr></thead><tbody><tr><td>Id</td><td><div class=\"dni-plaintext\"><pre>msg_xMJiNcGUf4fop4RWGLeKEdRN</pre></div></td></tr><tr><td>CreatedAt</td><td><span>2024-12-29 15:26:39Z</span></td></tr><tr><td>ThreadId</td><td><div class=\"dni-plaintext\"><pre>thread_88zPUePXqEZPaQsufG5HAVF6</pre></div></td></tr><tr><td>Status</td><td><details class=\"dni-treeview\"><summary><span class=\"dni-code-hint\"><code>System.NullReferenceException: Object reference not set to an instance of an object.\\n   at Microsoft.DotNet.Interactive.Formatting.PlainTextSummaryFormatter.Truncate(Object value) in D:\\a\\_work\\1\\s\\src\\Microsoft.DotNet.Interactive.Formatting\\PlainTextSummaryFormatter.cs:line 85\\n   at Microsoft.Dot...</code></span></summary><div><table><thead><tr></tr></thead><tbody></tbody></table></div></details></td></tr><tr><td>IncompleteDetails</td><td><div class=\"dni-plaintext\"><pre>&lt;null&gt;</pre></div></td></tr><tr><td>CompletedAt</td><td><div class=\"dni-plaintext\"><pre>&lt;null&gt;</pre></div></td></tr><tr><td>IncompleteAt</td><td><div class=\"dni-plaintext\"><pre>&lt;null&gt;</pre></div></td></tr><tr><td>Role</td><td><details class=\"dni-treeview\"><summary><span class=\"dni-code-hint\"><code>assistant</code></span></summary><div><table><thead><tr></tr></thead><tbody></tbody></table></div></details></td></tr><tr><td>ContentItems</td><td><table><thead><tr><th><i>index</i></th><th>value</th></tr></thead><tbody><tr><td>0</td><td><details class=\"dni-treeview\"><summary><span class=\"dni-code-hint\"><code>Azure.AI.Projects.MessageTextContent</code></span></summary><div><table><thead><tr></tr></thead><tbody><tr><td>Text</td><td><div class=\"dni-plaintext\"><pre>The blog file has been created and saved as `blog-241229152639.md`. You can download it using the link below:\n",
       "\n",
       "[Download blog-241229152639.md](sandbox:/mnt/data/blog-241229152639.md)</pre></div></td></tr><tr><td>Annotations</td><td><table><thead><tr><th><i>index</i></th><th>value</th></tr></thead><tbody><tr><td>0</td><td><details class=\"dni-treeview\"><summary><span class=\"dni-code-hint\"><code>Azure.AI.Projects.MessageTextFilePathAnnotation</code></span></summary><div><table><thead><tr></tr></thead><tbody><tr><td>FileId</td><td>assistant-FHVIVedqsokRZOI583s4rxdt</td></tr><tr><td>StartIndex</td><td>143</td></tr><tr><td>EndIndex</td><td>181</td></tr><tr><td>Text</td><td>sandbox:/mnt/data/blog-241229152639.md</td></tr></tbody></table></div></details></td></tr></tbody></table></td></tr></tbody></table></div></details></td></tr></tbody></table></td></tr><tr><td>AssistantId</td><td><div class=\"dni-plaintext\"><pre>asst_EOW8CQAj8zLDKqVwZHnb7UdZ</pre></div></td></tr><tr><td>RunId</td><td><div class=\"dni-plaintext\"><pre>run_fBrBc0jj1COxnSu85GXGr721</pre></div></td></tr><tr><td>Attachments</td><td><table><thead><tr><th><i>index</i></th><th>value</th></tr></thead><tbody><tr><td>0</td><td><details class=\"dni-treeview\"><summary><span class=\"dni-code-hint\"><code>Azure.AI.Projects.MessageAttachment</code></span></summary><div><table><thead><tr></tr></thead><tbody><tr><td>FileId</td><td><div class=\"dni-plaintext\"><pre>assistant-FHVIVedqsokRZOI583s4rxdt</pre></div></td></tr><tr><td>DataSource</td><td><div class=\"dni-plaintext\"><pre>&lt;null&gt;</pre></div></td></tr><tr><td>Tools</td><td><table><thead><tr><th><i>index</i></th><th>value</th></tr></thead><tbody><tr><td>0</td><td><details class=\"dni-treeview\"><summary><span class=\"dni-code-hint\"><code>{\\n              &quot;type&quot;: &quot;code_interpreter&quot;\\n            }</code></span></summary><div><table><thead><tr></tr></thead><tbody></tbody></table></div></details></td></tr></tbody></table></td></tr></tbody></table></div></details></td></tr></tbody></table></td></tr><tr><td>Metadata</td><td><i>(empty)</i></td></tr></tbody></table></div></details></td></tr><tr><td>1</td><td><details class=\"dni-treeview\"><summary><span class=\"dni-code-hint\"><code>Azure.AI.Projects.ThreadMessage</code></span></summary><div><table><thead><tr></tr></thead><tbody><tr><td>Id</td><td><div class=\"dni-plaintext\"><pre>msg_WdgYUilMvwQ7swgdb91O8i4j</pre></div></td></tr><tr><td>CreatedAt</td><td><span>2024-12-29 15:26:35Z</span></td></tr><tr><td>ThreadId</td><td><div class=\"dni-plaintext\"><pre>thread_88zPUePXqEZPaQsufG5HAVF6</pre></div></td></tr><tr><td>Status</td><td><details class=\"dni-treeview\"><summary><span class=\"dni-code-hint\"><code>System.NullReferenceException: Object reference not set to an instance of an object.\\n   at Microsoft.DotNet.Interactive.Formatting.PlainTextSummaryFormatter.Truncate(Object value) in D:\\a\\_work\\1\\s\\src\\Microsoft.DotNet.Interactive.Formatting\\PlainTextSummaryFormatter.cs:line 85\\n   at Microsoft.Dot...</code></span></summary><div><table><thead><tr></tr></thead><tbody></tbody></table></div></details></td></tr><tr><td>IncompleteDetails</td><td><div class=\"dni-plaintext\"><pre>&lt;null&gt;</pre></div></td></tr><tr><td>CompletedAt</td><td><div class=\"dni-plaintext\"><pre>&lt;null&gt;</pre></div></td></tr><tr><td>IncompleteAt</td><td><div class=\"dni-plaintext\"><pre>&lt;null&gt;</pre></div></td></tr><tr><td>Role</td><td><details class=\"dni-treeview\"><summary><span class=\"dni-code-hint\"><code>user</code></span></summary><div><table><thead><tr></tr></thead><tbody></tbody></table></div></details></td></tr><tr><td>ContentItems</td><td><table><thead><tr><th><i>index</i></th><th>value</th></tr></thead><tbody><tr><td>0</td><td><details class=\"dni-treeview\"><summary><span class=\"dni-code-hint\"><code>Azure.AI.Projects.MessageTextContent</code></span></summary><div><table><thead><tr></tr></thead><tbody><tr><td>Text</td><td><div class=\"dni-plaintext\"><pre>You are my Python programming assistant. Generate code and execute it according to the following requirements\n",
       "                1. Save file as blog-{YYMMDDHHMMSS}.md\n",
       "                2. give me the download this file link\n",
       "            </pre></div></td></tr><tr><td>Annotations</td><td><i>(empty)</i></td></tr></tbody></table></div></details></td></tr></tbody></table></td></tr><tr><td>AssistantId</td><td><div class=\"dni-plaintext\"><pre>&lt;null&gt;</pre></div></td></tr><tr><td>RunId</td><td><div class=\"dni-plaintext\"><pre>&lt;null&gt;</pre></div></td></tr><tr><td>Attachments</td><td><i>(empty)</i></td></tr><tr><td>Metadata</td><td><i>(empty)</i></td></tr></tbody></table></div></details></td></tr></tbody></table><style>\r\n",
       ".dni-code-hint {\r\n",
       "    font-style: italic;\r\n",
       "    overflow: hidden;\r\n",
       "    white-space: nowrap;\r\n",
       "}\r\n",
       ".dni-treeview {\r\n",
       "    white-space: nowrap;\r\n",
       "}\r\n",
       ".dni-treeview td {\r\n",
       "    vertical-align: top;\r\n",
       "    text-align: start;\r\n",
       "}\r\n",
       "details.dni-treeview {\r\n",
       "    padding-left: 1em;\r\n",
       "}\r\n",
       "table td {\r\n",
       "    text-align: start;\r\n",
       "}\r\n",
       "table tr { \r\n",
       "    vertical-align: top; \r\n",
       "    margin: 0em 0px;\r\n",
       "}\r\n",
       "table tr td pre \r\n",
       "{ \r\n",
       "    vertical-align: top !important; \r\n",
       "    margin: 0em 0px !important;\r\n",
       "} \r\n",
       "table th {\r\n",
       "    text-align: start;\r\n",
       "}\r\n",
       "</style>"
      ]
     },
     "metadata": {},
     "output_type": "display_data"
    }
   ],
   "source": [
    "messages"
   ]
  },
  {
   "cell_type": "code",
   "execution_count": 21,
   "metadata": {
    "dotnet_interactive": {
     "language": "csharp"
    },
    "polyglot_notebook": {
     "kernelName": "csharp"
    },
    "vscode": {
     "languageId": "polyglot-notebook"
    }
   },
   "outputs": [],
   "source": []
  },
  {
   "cell_type": "code",
   "execution_count": 22,
   "metadata": {
    "dotnet_interactive": {
     "language": "csharp"
    },
    "polyglot_notebook": {
     "kernelName": "csharp"
    },
    "vscode": {
     "languageId": "polyglot-notebook"
    }
   },
   "outputs": [
    {
     "name": "stdout",
     "output_type": "stream",
     "text": [
      "2024-12-29 15:26:39 -  assistant: The blog file has been created and saved as `blog-241229152639.md`. You can download it using the link below:\n",
      "\n",
      "[Download blog-241229152639.md](sandbox:/mnt/data/blog-241229152639.md)[Download file](sandbox:/mnt/data/blog-241229152639.md)baba:/mnt/data/blog-241229152639.md\n",
      "2024-12-29 15:26:35 -       user: You are my Python programming assistant. Generate code and execute it according to the following requirements\n",
      "                1. Save file as blog-{YYMMDDHHMMSS}.md\n",
      "                2. give me the download this file link\n",
      "            \n"
     ]
    }
   ],
   "source": [
    "foreach (ThreadMessage threadMessage in messages)\n",
    "{\n",
    "            Console.Write($\"{threadMessage.CreatedAt:yyyy-MM-dd HH:mm:ss} - {threadMessage.Role,10}: \");\n",
    "            foreach (MessageContent contentItem in threadMessage.ContentItems)\n",
    "            {\n",
    "                \n",
    "                if (contentItem is MessageTextContent textItem)\n",
    "                {\n",
    "                    Console.Write(textItem.Text);\n",
    "\n",
    "                    if(textItem.Annotations is not null && textItem.Annotations.Count > 0)\n",
    "                    {\n",
    "\n",
    "                        if(textItem.Annotations[0] is MessageTextFilePathAnnotation pathItem )\n",
    "                        {\n",
    "                            Console.Write($\"[Download file]({pathItem.Text})\");\n",
    "\n",
    "                            Azure.Response<AgentFile> agentfile = await client.GetFileAsync(pathItem.FileId);\n",
    "\n",
    "                            Azure.Response<BinaryData> fileBytes = await client.GetFileContentAsync(pathItem.FileId);\n",
    "\n",
    "                            Console.Write(\"baba:\"+agentfile.Value.Filename);\n",
    "\n",
    "                            var mdfile =System.IO.Path.GetFileName(agentfile.Value.Filename);\n",
    "\n",
    "                            using System.IO.FileStream stream = System.IO.File.OpenWrite($\"./blog/{mdfile}\");\n",
    "                            fileBytes.Value.ToStream().CopyTo(stream);\n",
    "\n",
    "                        }\n",
    "\n",
    "                    }\n",
    "\n",
    "                }\n",
    "                Console.WriteLine();\n",
    "            }\n",
    "\n",
    "\n",
    "}\n",
    "\n",
    "\n"
   ]
  }
 ],
 "metadata": {
  "kernelspec": {
   "display_name": ".NET (C#)",
   "language": "C#",
   "name": ".net-csharp"
  },
  "language_info": {
   "name": "python"
  },
  "polyglot_notebook": {
   "kernelInfo": {
    "defaultKernelName": "csharp",
    "items": [
     {
      "aliases": [],
      "name": "csharp"
     }
    ]
   }
  }
 },
 "nbformat": 4,
 "nbformat_minor": 2
}
