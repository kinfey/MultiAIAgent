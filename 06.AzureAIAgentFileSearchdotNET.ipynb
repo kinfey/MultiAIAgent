{
 "cells": [
  {
   "cell_type": "code",
   "execution_count": 1,
   "metadata": {
    "dotnet_interactive": {
     "language": "csharp"
    },
    "polyglot_notebook": {
     "kernelName": "csharp"
    },
    "vscode": {
     "languageId": "polyglot-notebook"
    }
   },
   "outputs": [
    {
     "data": {
      "text/html": [
       "<div><div></div><div></div><div><strong>Installed Packages</strong><ul><li><span>Azure.AI.Projects, 1.0.0-beta.2</span></li></ul></div></div>"
      ]
     },
     "metadata": {},
     "output_type": "display_data"
    }
   ],
   "source": [
    "#r \"nuget: Azure.AI.Projects, 1.0.0-beta.2\""
   ]
  },
  {
   "cell_type": "code",
   "execution_count": 2,
   "metadata": {
    "dotnet_interactive": {
     "language": "csharp"
    },
    "polyglot_notebook": {
     "kernelName": "csharp"
    },
    "vscode": {
     "languageId": "polyglot-notebook"
    }
   },
   "outputs": [],
   "source": [
    "var connectionString = \"Your Azure AI Agent Service Connection String\";"
   ]
  },
  {
   "cell_type": "code",
   "execution_count": 3,
   "metadata": {
    "dotnet_interactive": {
     "language": "csharp"
    },
    "polyglot_notebook": {
     "kernelName": "csharp"
    },
    "vscode": {
     "languageId": "polyglot-notebook"
    }
   },
   "outputs": [
    {
     "data": {
      "text/html": [
       "<div><div></div><div></div><div><strong>Installed Packages</strong><ul><li><span>Azure.Identity, 1.13.1</span></li></ul></div></div>"
      ]
     },
     "metadata": {},
     "output_type": "display_data"
    }
   ],
   "source": [
    "#r \"nuget: Azure.Identity, 1.13.1\""
   ]
  },
  {
   "cell_type": "code",
   "execution_count": 4,
   "metadata": {
    "dotnet_interactive": {
     "language": "csharp"
    },
    "polyglot_notebook": {
     "kernelName": "csharp"
    },
    "vscode": {
     "languageId": "polyglot-notebook"
    }
   },
   "outputs": [],
   "source": [
    "\n",
    "using Azure.Core;\n",
    "\n",
    "using Azure.Identity;\n",
    "\n",
    "using Azure.AI.Projects;"
   ]
  },
  {
   "cell_type": "code",
   "execution_count": 5,
   "metadata": {
    "dotnet_interactive": {
     "language": "csharp"
    },
    "polyglot_notebook": {
     "kernelName": "csharp"
    },
    "vscode": {
     "languageId": "polyglot-notebook"
    }
   },
   "outputs": [],
   "source": [
    "AgentsClient client = new AgentsClient(connectionString, new DefaultAzureCredential());"
   ]
  },
  {
   "cell_type": "code",
   "execution_count": 8,
   "metadata": {
    "dotnet_interactive": {
     "language": "csharp"
    },
    "polyglot_notebook": {
     "kernelName": "csharp"
    },
    "vscode": {
     "languageId": "polyglot-notebook"
    }
   },
   "outputs": [],
   "source": [
    "Azure.Response<AgentFile> uploadAgentFileResponse = await client.UploadFileAsync(\n",
    "            filePath: \"./data/intro_rag.md\",\n",
    "            purpose: AgentFilePurpose.Agents);"
   ]
  },
  {
   "cell_type": "code",
   "execution_count": 9,
   "metadata": {
    "dotnet_interactive": {
     "language": "csharp"
    },
    "polyglot_notebook": {
     "kernelName": "csharp"
    },
    "vscode": {
     "languageId": "polyglot-notebook"
    }
   },
   "outputs": [],
   "source": [
    "AgentFile uploadedAgentFile = uploadAgentFileResponse.Value;"
   ]
  },
  {
   "cell_type": "code",
   "execution_count": 10,
   "metadata": {
    "dotnet_interactive": {
     "language": "csharp"
    },
    "polyglot_notebook": {
     "kernelName": "csharp"
    },
    "vscode": {
     "languageId": "polyglot-notebook"
    }
   },
   "outputs": [],
   "source": [
    "VectorStore vectorStore = await client.CreateVectorStoreAsync(\n",
    "            fileIds:  new List<string> { uploadedAgentFile.Id },\n",
    "            name: \"my_vector_store\");"
   ]
  },
  {
   "cell_type": "code",
   "execution_count": 11,
   "metadata": {
    "dotnet_interactive": {
     "language": "csharp"
    },
    "polyglot_notebook": {
     "kernelName": "csharp"
    },
    "vscode": {
     "languageId": "polyglot-notebook"
    }
   },
   "outputs": [],
   "source": [
    "FileSearchToolResource fileSearchToolResource = new FileSearchToolResource();\n",
    "        fileSearchToolResource.VectorStoreIds.Add(vectorStore.Id);"
   ]
  },
  {
   "cell_type": "code",
   "execution_count": 12,
   "metadata": {
    "dotnet_interactive": {
     "language": "csharp"
    },
    "polyglot_notebook": {
     "kernelName": "csharp"
    },
    "vscode": {
     "languageId": "polyglot-notebook"
    }
   },
   "outputs": [],
   "source": [
    "Azure.Response<Agent> agentResponse = await client.CreateAgentAsync(\n",
    "                model: \"gpt-4o-mini\",\n",
    "                name: \"RAG Agent\",\n",
    "                instructions: \"You are a helpful agent that can help fetch data from files you know about.\",\n",
    "                tools: new List<ToolDefinition> { new FileSearchToolDefinition() },\n",
    "                toolResources: new ToolResources() { FileSearch = fileSearchToolResource });\n",
    "Agent agent = agentResponse.Value;"
   ]
  },
  {
   "cell_type": "code",
   "execution_count": 13,
   "metadata": {
    "dotnet_interactive": {
     "language": "csharp"
    },
    "polyglot_notebook": {
     "kernelName": "csharp"
    },
    "vscode": {
     "languageId": "polyglot-notebook"
    }
   },
   "outputs": [],
   "source": [
    "Azure.Response<AgentThread> threadResponse = await client.CreateThreadAsync();\n",
    "AgentThread thread = threadResponse.Value;"
   ]
  },
  {
   "cell_type": "code",
   "execution_count": 14,
   "metadata": {
    "dotnet_interactive": {
     "language": "csharp"
    },
    "polyglot_notebook": {
     "kernelName": "csharp"
    },
    "vscode": {
     "languageId": "polyglot-notebook"
    }
   },
   "outputs": [],
   "source": [
    "Azure.Response<ThreadMessage> messageResponse = await client.CreateMessageAsync(\n",
    "            thread.Id,\n",
    "            MessageRole.User,\n",
    "            \"Can you introduce GraphRAG?\");\n",
    "ThreadMessage message = messageResponse.Value;"
   ]
  },
  {
   "cell_type": "code",
   "execution_count": 15,
   "metadata": {
    "dotnet_interactive": {
     "language": "csharp"
    },
    "polyglot_notebook": {
     "kernelName": "csharp"
    },
    "vscode": {
     "languageId": "polyglot-notebook"
    }
   },
   "outputs": [],
   "source": [
    "Azure.Response<ThreadRun> runResponse = await client.CreateRunAsync(thread, agent);\n",
    "\n",
    "        do\n",
    "        {\n",
    "            await Task.Delay(TimeSpan.FromMilliseconds(500));\n",
    "            runResponse = await client.GetRunAsync(thread.Id, runResponse.Value.Id);\n",
    "        }\n",
    "        while (runResponse.Value.Status == RunStatus.Queued\n",
    "            || runResponse.Value.Status == RunStatus.InProgress);\n",
    "\n",
    "Azure.Response<PageableList<ThreadMessage>> afterRunMessagesResponse\n",
    "            = await client.GetMessagesAsync(thread.Id);\n",
    "IReadOnlyList<ThreadMessage> messages = afterRunMessagesResponse.Value.Data;"
   ]
  },
  {
   "cell_type": "code",
   "execution_count": 16,
   "metadata": {
    "dotnet_interactive": {
     "language": "csharp"
    },
    "polyglot_notebook": {
     "kernelName": "csharp"
    },
    "vscode": {
     "languageId": "polyglot-notebook"
    }
   },
   "outputs": [
    {
     "name": "stdout",
     "output_type": "stream",
     "text": [
      "2024-12-30 03:19:51 -  assistant: GraphRAG is an AI-based tool designed for content interpretation and search capabilities. It utilizes large language models (LLMs) to parse data and construct knowledge graphs, enabling it to answer user questions based on a user-provided private dataset. \n",
      "\n",
      "### Intended Use\n",
      "GraphRAG is particularly valuable in scenarios requiring critical information discovery and analysis, especially when:\n",
      "- The necessary insights span multiple documents and contain noisy or misleading information.\n",
      "- Questions are abstract or thematic, transcending what the underlying data can answer directly.\n",
      "- Users are trained in analytic and critical reasoning and can verify and augment GraphRAG's responses.\n",
      "\n",
      "GraphRAG is tailored for deployment with a domain-specific corpus of text data. It does not collect user data, although users should verify the data privacy policies of the LLM used to implement GraphRAG.\n",
      "\n",
      "### Evaluation Metrics\n",
      "GraphRAG has undergone various evaluations focusing on:\n",
      "1. **Accurate data representation**: This is tested through both manual inspection and automated comparisons against a \"gold answer\" derived from subsets of a test corpus.\n",
      "2. **Transparency and groundedness**: These aspects are evaluated using automated coverage assessments and human oversight of provided context.\n",
      "3. **Resilience against attacks**: GraphRAG is tested for vulnerability to prompt injection attacks, employing both manual and semi-automated testing methods.\n",
      "4. **Low hallucination rates**: Evaluation involves metrics for claim coverage, manual inspection of responses, and adversarial challenges designed to provoke hallucinations【4:0†source】.\n",
      "2024-12-30 03:19:09 -       user: Can you introduce GraphRAG?\n"
     ]
    }
   ],
   "source": [
    "foreach (ThreadMessage threadMessage in messages)\n",
    "{\n",
    "            Console.Write($\"{threadMessage.CreatedAt:yyyy-MM-dd HH:mm:ss} - {threadMessage.Role,10}: \");\n",
    "            foreach (MessageContent contentItem in threadMessage.ContentItems)\n",
    "            {\n",
    "                if (contentItem is MessageTextContent textItem)\n",
    "                {\n",
    "                    Console.Write(textItem.Text);\n",
    "                }\n",
    "                else if (contentItem is MessageImageFileContent imageFileItem)\n",
    "                {\n",
    "                    Console.Write($\"<image from ID: {imageFileItem.FileId}\");\n",
    "                }\n",
    "                Console.WriteLine();\n",
    "            }\n",
    "}"
   ]
  }
 ],
 "metadata": {
  "kernelspec": {
   "display_name": ".NET (C#)",
   "language": "C#",
   "name": ".net-csharp"
  },
  "language_info": {
   "name": "python"
  },
  "polyglot_notebook": {
   "kernelInfo": {
    "defaultKernelName": "csharp",
    "items": [
     {
      "aliases": [],
      "name": "csharp"
     }
    ]
   }
  }
 },
 "nbformat": 4,
 "nbformat_minor": 2
}
