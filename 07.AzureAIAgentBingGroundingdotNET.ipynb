{
 "cells": [
  {
   "cell_type": "code",
   "execution_count": 1,
   "metadata": {
    "dotnet_interactive": {
     "language": "csharp"
    },
    "polyglot_notebook": {
     "kernelName": "csharp"
    },
    "vscode": {
     "languageId": "polyglot-notebook"
    }
   },
   "outputs": [
    {
     "data": {
      "text/html": [
       "<div><div></div><div></div><div><strong>Installed Packages</strong><ul><li><span>Azure.AI.Projects, 1.0.0-beta.2</span></li></ul></div></div>"
      ]
     },
     "metadata": {},
     "output_type": "display_data"
    }
   ],
   "source": [
    "#r \"nuget: Azure.AI.Projects, 1.0.0-beta.2\""
   ]
  },
  {
   "cell_type": "code",
   "execution_count": 2,
   "metadata": {
    "dotnet_interactive": {
     "language": "csharp"
    },
    "polyglot_notebook": {
     "kernelName": "csharp"
    },
    "vscode": {
     "languageId": "polyglot-notebook"
    }
   },
   "outputs": [],
   "source": [
    "var connectionString = \"Your Azure AI Agent Service Connection String\";"
   ]
  },
  {
   "cell_type": "code",
   "execution_count": 3,
   "metadata": {
    "dotnet_interactive": {
     "language": "csharp"
    },
    "polyglot_notebook": {
     "kernelName": "csharp"
    },
    "vscode": {
     "languageId": "polyglot-notebook"
    }
   },
   "outputs": [
    {
     "data": {
      "text/html": [
       "<div><div></div><div></div><div><strong>Installed Packages</strong><ul><li><span>Azure.Identity, 1.13.1</span></li></ul></div></div>"
      ]
     },
     "metadata": {},
     "output_type": "display_data"
    }
   ],
   "source": [
    "#r \"nuget: Azure.Identity, 1.13.1\""
   ]
  },
  {
   "cell_type": "code",
   "execution_count": 4,
   "metadata": {
    "dotnet_interactive": {
     "language": "csharp"
    },
    "polyglot_notebook": {
     "kernelName": "csharp"
    },
    "vscode": {
     "languageId": "polyglot-notebook"
    }
   },
   "outputs": [],
   "source": [
    "\n",
    "using System;\n",
    "using System.Collections.Generic;\n",
    "using System.Threading.Tasks;\n",
    "\n",
    "using Azure.Identity;\n",
    "using Azure.AI.Projects;\n",
    "using Azure.Core;\n",
    "using Azure.Core.Pipeline;"
   ]
  },
  {
   "cell_type": "code",
   "execution_count": 5,
   "metadata": {
    "dotnet_interactive": {
     "language": "csharp"
    },
    "polyglot_notebook": {
     "kernelName": "csharp"
    },
    "vscode": {
     "languageId": "polyglot-notebook"
    }
   },
   "outputs": [],
   "source": [
    "internal class CustomHeadersPolicy : HttpPipelineSynchronousPolicy\n",
    "{\n",
    "    public override void OnSendingRequest(HttpMessage message)\n",
    "    {\n",
    "        message.Request.Headers.Add(\"x-ms-enable-preview\", \"true\");\n",
    "    }\n",
    "}"
   ]
  },
  {
   "cell_type": "code",
   "execution_count": 6,
   "metadata": {
    "dotnet_interactive": {
     "language": "csharp"
    },
    "polyglot_notebook": {
     "kernelName": "csharp"
    },
    "vscode": {
     "languageId": "polyglot-notebook"
    }
   },
   "outputs": [],
   "source": [
    "var clientOptions = new AIProjectClientOptions();\n",
    "\n",
    "clientOptions.AddPolicy(new CustomHeadersPolicy(), HttpPipelinePosition.PerCall);"
   ]
  },
  {
   "cell_type": "code",
   "execution_count": 7,
   "metadata": {
    "dotnet_interactive": {
     "language": "csharp"
    },
    "polyglot_notebook": {
     "kernelName": "csharp"
    },
    "vscode": {
     "languageId": "polyglot-notebook"
    }
   },
   "outputs": [],
   "source": [
    "var projectClient = new AIProjectClient(connectionString, new DefaultAzureCredential(), clientOptions);"
   ]
  },
  {
   "cell_type": "code",
   "execution_count": 8,
   "metadata": {
    "dotnet_interactive": {
     "language": "csharp"
    },
    "polyglot_notebook": {
     "kernelName": "csharp"
    },
    "vscode": {
     "languageId": "polyglot-notebook"
    }
   },
   "outputs": [],
   "source": [
    "ConnectionResponse bingConnection = await projectClient.GetConnectionsClient().GetConnectionAsync(\"kinfey-bing-search\");\n",
    "var connectionId = bingConnection.Id;"
   ]
  },
  {
   "cell_type": "code",
   "execution_count": 9,
   "metadata": {
    "dotnet_interactive": {
     "language": "csharp"
    },
    "polyglot_notebook": {
     "kernelName": "csharp"
    },
    "vscode": {
     "languageId": "polyglot-notebook"
    }
   },
   "outputs": [],
   "source": [
    "AgentsClient agentClient = projectClient.GetAgentsClient();"
   ]
  },
  {
   "cell_type": "code",
   "execution_count": 10,
   "metadata": {
    "dotnet_interactive": {
     "language": "csharp"
    },
    "polyglot_notebook": {
     "kernelName": "csharp"
    },
    "vscode": {
     "languageId": "polyglot-notebook"
    }
   },
   "outputs": [],
   "source": [
    "ToolConnectionList connectionList = new ToolConnectionList\n",
    "{\n",
    "            ConnectionList = { new ToolConnection(connectionId) }\n",
    "};\n",
    "BingGroundingToolDefinition bingGroundingTool = new BingGroundingToolDefinition(connectionList);"
   ]
  },
  {
   "cell_type": "code",
   "execution_count": 11,
   "metadata": {
    "dotnet_interactive": {
     "language": "csharp"
    },
    "polyglot_notebook": {
     "kernelName": "csharp"
    },
    "vscode": {
     "languageId": "polyglot-notebook"
    }
   },
   "outputs": [],
   "source": [
    "Azure.Response<Agent> agentResponse = await agentClient.CreateAgentAsync(\n",
    "           model: \"gpt-4\",\n",
    "           name: \"web-search-assistant\",\n",
    "           instructions: @\"\n",
    "                You are a web search agent.\n",
    "                Your only tool is search_tool - use it to find information.\n",
    "                You make only one search call at a time.\n",
    "                Once you have the results, you never do calculations based on them.\",\n",
    "           tools: new List<ToolDefinition> { bingGroundingTool });\n",
    "Agent agent = agentResponse.Value;"
   ]
  },
  {
   "cell_type": "code",
   "execution_count": 12,
   "metadata": {
    "dotnet_interactive": {
     "language": "csharp"
    },
    "polyglot_notebook": {
     "kernelName": "csharp"
    },
    "vscode": {
     "languageId": "polyglot-notebook"
    }
   },
   "outputs": [],
   "source": [
    "Azure.Response<AgentThread> threadResponse = await agentClient.CreateThreadAsync();\n",
    "AgentThread thread = threadResponse.Value;"
   ]
  },
  {
   "cell_type": "code",
   "execution_count": 13,
   "metadata": {
    "dotnet_interactive": {
     "language": "csharp"
    },
    "polyglot_notebook": {
     "kernelName": "csharp"
    },
    "vscode": {
     "languageId": "polyglot-notebook"
    }
   },
   "outputs": [],
   "source": [
    "Azure.Response<ThreadMessage> messageResponse = await agentClient.CreateMessageAsync(\n",
    "            thread.Id,\n",
    "            MessageRole.User,\n",
    "            \"What's Microsoft?\");\n",
    "ThreadMessage message = messageResponse.Value;"
   ]
  },
  {
   "cell_type": "code",
   "execution_count": 14,
   "metadata": {
    "dotnet_interactive": {
     "language": "csharp"
    },
    "polyglot_notebook": {
     "kernelName": "csharp"
    },
    "vscode": {
     "languageId": "polyglot-notebook"
    }
   },
   "outputs": [],
   "source": [
    "Azure.Response<ThreadRun> runResponse = await agentClient.CreateRunAsync(thread, agent);"
   ]
  },
  {
   "cell_type": "code",
   "execution_count": 15,
   "metadata": {
    "dotnet_interactive": {
     "language": "csharp"
    },
    "polyglot_notebook": {
     "kernelName": "csharp"
    },
    "vscode": {
     "languageId": "polyglot-notebook"
    }
   },
   "outputs": [],
   "source": [
    "do\n",
    "{\n",
    "            await Task.Delay(TimeSpan.FromMilliseconds(500));\n",
    "            runResponse = await agentClient.GetRunAsync(thread.Id, runResponse.Value.Id);\n",
    "}\n",
    "while (runResponse.Value.Status == RunStatus.Queued\n",
    "            || runResponse.Value.Status == RunStatus.InProgress);"
   ]
  },
  {
   "cell_type": "code",
   "execution_count": 16,
   "metadata": {
    "dotnet_interactive": {
     "language": "csharp"
    },
    "polyglot_notebook": {
     "kernelName": "csharp"
    },
    "vscode": {
     "languageId": "polyglot-notebook"
    }
   },
   "outputs": [],
   "source": [
    "Azure.Response<PageableList<ThreadMessage>> afterRunMessagesResponse\n",
    "            = await agentClient.GetMessagesAsync(thread.Id);\n",
    "IReadOnlyList<ThreadMessage> messages = afterRunMessagesResponse.Value.Data;"
   ]
  },
  {
   "cell_type": "code",
   "execution_count": 17,
   "metadata": {
    "dotnet_interactive": {
     "language": "csharp"
    },
    "polyglot_notebook": {
     "kernelName": "csharp"
    },
    "vscode": {
     "languageId": "polyglot-notebook"
    }
   },
   "outputs": [
    {
     "name": "stdout",
     "output_type": "stream",
     "text": [
      "2024-12-31 00:03:02 -  assistant: Microsoft Corporation is a multinational technology company headquartered in Redmond, Washington. It was founded by Bill Gates and Paul Allen on April 4, 1975. Microsoft is known for its broad range of software, hardware, and services. Its most prominent products include the Windows operating systems, the Microsoft Office suite, and the Internet Explorer and Edge web browsers. The company also produces hardware for consumer electronics, such as the Xbox video game consoles and the Surface lineup of touchscreen personal computers. Additionally, Microsoft offers cloud-based services like Azure and Office 365, which have become significant parts of its business operations. Microsoft is considered one of the largest and most influential companies in the personal computer industry and technology sector at large.\n",
      "2024-12-31 00:03:00 -       user: What's Microsoft?\n"
     ]
    }
   ],
   "source": [
    "foreach (ThreadMessage threadMessage in messages)\n",
    "{\n",
    "            Console.Write($\"{threadMessage.CreatedAt:yyyy-MM-dd HH:mm:ss} - {threadMessage.Role,10}: \");\n",
    "            foreach (MessageContent contentItem in threadMessage.ContentItems)\n",
    "            {\n",
    "                if (contentItem is MessageTextContent textItem)\n",
    "                {\n",
    "                    Console.Write(textItem.Text);\n",
    "                }\n",
    "                else if (contentItem is MessageImageFileContent imageFileItem)\n",
    "                {\n",
    "                    Console.Write($\"<image from ID: {imageFileItem.FileId}\");\n",
    "                }\n",
    "                Console.WriteLine();\n",
    "            }\n",
    "}"
   ]
  }
 ],
 "metadata": {
  "kernelspec": {
   "display_name": ".NET (C#)",
   "language": "C#",
   "name": ".net-csharp"
  },
  "language_info": {
   "name": "python"
  },
  "polyglot_notebook": {
   "kernelInfo": {
    "defaultKernelName": "csharp",
    "items": [
     {
      "aliases": [],
      "name": "csharp"
     }
    ]
   }
  }
 },
 "nbformat": 4,
 "nbformat_minor": 2
}
